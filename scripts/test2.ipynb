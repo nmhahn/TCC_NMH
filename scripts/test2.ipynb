{
 "cells": [
  {
   "cell_type": "markdown",
   "metadata": {},
   "source": [
    "# Código Base\n",
    "link: https://goodboychan.github.io/python/tensorflow/mit/2021/02/14/music-generation.html"
   ]
  },
  {
   "cell_type": "markdown",
   "metadata": {},
   "source": [
    "## Music Generation with RNNs"
   ]
  },
  {
   "cell_type": "code",
   "execution_count": 1,
   "metadata": {},
   "outputs": [
    {
     "name": "stderr",
     "output_type": "stream",
     "text": [
      "c:\\Users\\nmhahn\\anaconda3\\envs\\tcc\\lib\\site-packages\\requests\\__init__.py:109: RequestsDependencyWarning: urllib3 (1.26.9) or chardet (5.0.0)/charset_normalizer (2.0.4) doesn't match a supported version!\n",
      "  warnings.warn(\n"
     ]
    }
   ],
   "source": [
    "import tensorflow as tf \n",
    "import numpy as np\n",
    "import os\n",
    "import time\n",
    "import regex as re\n",
    "from IPython import display as ipythondisplay\n",
    "from tqdm import tqdm\n",
    "import matplotlib.pyplot as plt\n",
    "# import subprocess\n",
    "# import urllib\n",
    "# import functools\n",
    "# import random\n",
    "\n",
    "# Check that we are using a GPU, if not switch runtimes\n",
    "#   using Runtime > Change Runtime Type > GPU\n",
    "assert len(tf.config.list_physical_devices('GPU')) > 0\n",
    "\n",
    "\n",
    "# devices = tf.config.list_physical_devices()\n",
    "# tf.config.experimental.set_visible_devices(devices[0]) # fixa para executar na CPU\n",
    "\n",
    "# os.environ['TF_DETERMINISTIC_OPS'] = '1'\n",
    "# seed=1\n",
    "# np.random.seed(seed)\n",
    "# random.seed(seed)\n",
    "# tf.random.set_seed(seed)\n",
    "\n"
   ]
  },
  {
   "cell_type": "markdown",
   "metadata": {},
   "source": [
    "## Dataset"
   ]
  },
  {
   "cell_type": "code",
   "execution_count": 2,
   "metadata": {},
   "outputs": [
    {
     "name": "stdout",
     "output_type": "stream",
     "text": [
      "\n",
      "Example song: \n",
      "X:1\n",
      "T:Alexander's\n",
      "Z: id:dc-hornpipe-1\n",
      "M:C|\n",
      "L:1/8\n",
      "K:D Major\n",
      "(3ABc|dAFA DFAd|fdcd FAdf|gfge fefd|(3efe (3dcB A2 (3ABc|!\n",
      "dAFA DFAd|fdcd FAdf|gfge fefd|(3efe dc d2:|!\n",
      "AG|FAdA FAdA|GBdB GBdB|Acec Acec|dfaf gecA|!\n",
      "FAdA FAdA|GBdB GBdB|Aceg fefd|(3efe dc d2:|!\n"
     ]
    }
   ],
   "source": [
    "def extract_song_snippet(text):\n",
    "    pattern = '(^|\\n\\n)(.*?)\\n\\n'\n",
    "    search_results = re.findall(pattern, text, overlapped=True, flags=re.DOTALL)\n",
    "    songs = [song[1] for song in search_results]\n",
    "    # print(\"Found {} songs in text\".format(len(songs)))\n",
    "    return songs\n",
    "\n",
    "cwd = os.getcwd()\n",
    "\n",
    "songs = []\n",
    "\n",
    "with open(os.path.join(cwd, 'data', 'irish', 'irish.abc'), 'r') as f:\n",
    "    text = f.read()\n",
    "    songs = extract_song_snippet(text)\n",
    "    \n",
    "# Print one of the songs to inspect it in greater detail!\n",
    "example_song = songs[0]\n",
    "print(\"\\nExample song: \")\n",
    "print(example_song)"
   ]
  },
  {
   "cell_type": "code",
   "execution_count": 3,
   "metadata": {},
   "outputs": [
    {
     "name": "stdout",
     "output_type": "stream",
     "text": [
      "There are 83 unique characters in the dataset\n"
     ]
    }
   ],
   "source": [
    "songs_joined = \"\\n\\n\".join(songs) \n",
    "\n",
    "# Find all unique characters in the joined string\n",
    "vocab = sorted(set(songs_joined))\n",
    "print(\"There are\", len(vocab), \"unique characters in the dataset\")"
   ]
  },
  {
   "cell_type": "markdown",
   "metadata": {},
   "source": [
    "## Process the dataset for the learning task"
   ]
  },
  {
   "cell_type": "code",
   "execution_count": 4,
   "metadata": {},
   "outputs": [],
   "source": [
    "# Create a mapping from character to unique index.\n",
    "# For example, to get the index of the character \"d\", \n",
    "#   we can evaluate `char2idx[\"d\"]`.  \n",
    "char2idx = {u:i for i, u in enumerate(vocab)}\n",
    "\n",
    "# Create a mapping from indices to characters. This is\n",
    "#   the inverse of char2idx and allows us to convert back\n",
    "#   from unique index to the character in our vocabulary.\n",
    "idx2char = np.array(vocab)"
   ]
  },
  {
   "cell_type": "code",
   "execution_count": 5,
   "metadata": {},
   "outputs": [],
   "source": [
    "# print('{')\n",
    "# for char,_ in zip(char2idx, range(20)):\n",
    "#     print('  {:4s}: {:3d},'.format(repr(char), char2idx[char]))\n",
    "# print('  ...\\n}')"
   ]
  },
  {
   "cell_type": "code",
   "execution_count": 6,
   "metadata": {},
   "outputs": [],
   "source": [
    "'''TODO: Write a function to convert the all songs string to a vectorized\n",
    "    (i.e., numeric) representation. Use the appropriate mapping\n",
    "    above to convert from vocab characters to the corresponding indices.\n",
    "\n",
    "    NOTE: the output of the `vectorize_string` function \n",
    "    should be a np.array with `N` elements, where `N` is\n",
    "    the number of characters in the input string\n",
    "'''\n",
    "\n",
    "def vectorize_string(string):\n",
    "    vectorized_list = np.array([char2idx[s] for s in string])\n",
    "    return vectorized_list\n",
    "\n",
    "vectorized_songs = vectorize_string(songs_joined)"
   ]
  },
  {
   "cell_type": "code",
   "execution_count": 7,
   "metadata": {},
   "outputs": [],
   "source": [
    "# print ('{} ---- characters mapped to int ----> {}'.format(repr(songs_joined[:10]), vectorized_songs[:10]))\n",
    "# # check that vectorized_songs is a numpy array\n",
    "# assert isinstance(vectorized_songs, np.ndarray), \"returned result should be a numpy array\""
   ]
  },
  {
   "cell_type": "markdown",
   "metadata": {},
   "source": [
    "## Create training examples and targets"
   ]
  },
  {
   "cell_type": "code",
   "execution_count": 8,
   "metadata": {},
   "outputs": [],
   "source": [
    "def get_batch(vectorized_songs, seq_length, batch_size):\n",
    "  n = vectorized_songs.shape[0] - 1\n",
    "\n",
    "  idx = np.random.choice(n-seq_length, batch_size)\n",
    "\n",
    "  input_batch = [vectorized_songs[i:i+seq_length] for i in idx]\n",
    "  output_batch = [vectorized_songs[i+1: i+1+seq_length] for i in idx]\n",
    "\n",
    "  x_batch = np.reshape(input_batch, [batch_size, seq_length])\n",
    "  y_batch = np.reshape(output_batch, [batch_size, seq_length])\n",
    "\n",
    "  return x_batch, y_batch\n"
   ]
  },
  {
   "cell_type": "code",
   "execution_count": 9,
   "metadata": {},
   "outputs": [],
   "source": [
    "# x_batch, y_batch = get_batch(vectorized_songs, seq_length=5, batch_size=1)\n",
    "\n",
    "# for i, (input_idx, target_idx) in enumerate(zip(np.squeeze(x_batch), np.squeeze(y_batch))):\n",
    "#     print(\"Step {:3d}\".format(i))\n",
    "#     print(\"  input: {} ({:s})\".format(input_idx, repr(idx2char[input_idx])))\n",
    "#     print(\"  expected output: {} ({:s})\".format(target_idx, repr(idx2char[target_idx])))"
   ]
  },
  {
   "cell_type": "markdown",
   "metadata": {},
   "source": [
    "## The Recurrent Neural Network (RNN) model"
   ]
  },
  {
   "cell_type": "markdown",
   "metadata": {},
   "source": [
    "### Define the RNN model"
   ]
  },
  {
   "cell_type": "code",
   "execution_count": 10,
   "metadata": {},
   "outputs": [],
   "source": [
    "def LSTM(rnn_units): \n",
    "  return tf.keras.layers.LSTM(\n",
    "    rnn_units, \n",
    "    return_sequences=True, \n",
    "    recurrent_initializer='glorot_uniform',\n",
    "    recurrent_activation='sigmoid',\n",
    "    stateful=True,\n",
    "  )"
   ]
  },
  {
   "cell_type": "code",
   "execution_count": 11,
   "metadata": {},
   "outputs": [],
   "source": [
    "def build_model(vocab_size, embedding_dim, rnn_units, batch_size):\n",
    "  model = tf.keras.Sequential([\n",
    "    # Layer 1: Embedding layer to transform indices into dense vectors \n",
    "    #   of a fixed embedding size\n",
    "    tf.keras.layers.Embedding(vocab_size, embedding_dim, batch_input_shape=[batch_size, None]),\n",
    "\n",
    "    # Layer 2: LSTM with `rnn_units` number of units. \n",
    "    LSTM(rnn_units),\n",
    "\n",
    "    # Layer 3: Dense (fully-connected) layer that transforms the LSTM output\n",
    "    #   into the vocabulary size. \n",
    "    tf.keras.layers.Dense(units=vocab_size)\n",
    "  ])\n",
    "\n",
    "  return model\n",
    "\n",
    "# Build a simple model with default hyperparameters. You will get the \n",
    "#   chance to change these later.\n",
    "model = build_model(len(vocab), embedding_dim=256, rnn_units=1024, batch_size=32)"
   ]
  },
  {
   "cell_type": "markdown",
   "metadata": {},
   "source": [
    "### Test out the model"
   ]
  },
  {
   "cell_type": "code",
   "execution_count": 12,
   "metadata": {},
   "outputs": [],
   "source": [
    "# model.summary()"
   ]
  },
  {
   "cell_type": "code",
   "execution_count": 13,
   "metadata": {},
   "outputs": [],
   "source": [
    "# x, y = get_batch(vectorized_songs, seq_length=100, batch_size=32)\n",
    "# pred = model(x)\n",
    "# print(\"Input shape:      \", x.shape, \" # (batch_size, sequence_length)\")\n",
    "# print(\"Prediction shape: \", pred.shape, \"# (batch_size, sequence_length, vocab_size)\")"
   ]
  },
  {
   "cell_type": "markdown",
   "metadata": {},
   "source": [
    "### Prediction from the untrained model"
   ]
  },
  {
   "cell_type": "code",
   "execution_count": 14,
   "metadata": {},
   "outputs": [],
   "source": [
    "# sampled_indices = tf.random.categorical(pred[0], num_samples=1)\n",
    "# sampled_indices = tf.squeeze(sampled_indices,axis=-1).numpy()\n",
    "# # sampled_indices\n",
    "\n",
    "# print(\"Input: \\n\", repr(\"\".join(idx2char[x[0]])))\n",
    "# print()\n",
    "# print(\"Next Char Predictions: \\n\", repr(\"\".join(idx2char[sampled_indices])))"
   ]
  },
  {
   "cell_type": "markdown",
   "metadata": {},
   "source": [
    "### Training the model: loss and training operations"
   ]
  },
  {
   "cell_type": "code",
   "execution_count": 15,
   "metadata": {},
   "outputs": [],
   "source": [
    "'''TODO: define the loss function to compute and return the loss between\n",
    "    the true labels and predictions (logits). Set the argument from_logits=True.'''\n",
    "def compute_loss(labels, logits):\n",
    "  loss = tf.keras.losses.sparse_categorical_crossentropy(labels, logits, from_logits=True)\n",
    "  return loss\n",
    "\n",
    "# '''TODO: compute the loss using the true next characters from the example batch \n",
    "#     and the predictions from the untrained model several cells above'''\n",
    "# example_batch_loss = compute_loss(y, pred) \n",
    "\n",
    "# print(\"Prediction shape: \", pred.shape, \" # (batch_size, sequence_length, vocab_size)\") \n",
    "# print(\"scalar_loss:      \", example_batch_loss.numpy().mean())"
   ]
  },
  {
   "cell_type": "code",
   "execution_count": 16,
   "metadata": {},
   "outputs": [],
   "source": [
    "# Optimization parameters:\n",
    "num_training_iterations = 2000  # Increase this to train longer\n",
    "batch_size = 4  # Experiment between 1 and 64\n",
    "seq_length = 100  # Experiment between 50 and 500\n",
    "learning_rate = 5e-3  # Experiment between 1e-5 and 1e-1\n",
    "\n",
    "# Model parameters: \n",
    "vocab_size = len(vocab)\n",
    "embedding_dim = 256 \n",
    "rnn_units = 1024  # Experiment between 1 and 2048\n",
    "\n",
    "# Checkpoint location: \n",
    "checkpoint_dir = './training_checkpoints'\n",
    "checkpoint_prefix = os.path.join(checkpoint_dir, \"my_ckpt\")"
   ]
  },
  {
   "cell_type": "code",
   "execution_count": 17,
   "metadata": {},
   "outputs": [],
   "source": [
    "class PeriodicPlotter:\n",
    "  def __init__(self, sec, xlabel='', ylabel='', scale=None):\n",
    "\n",
    "    self.xlabel = xlabel\n",
    "    self.ylabel = ylabel\n",
    "    self.sec = sec\n",
    "    self.scale = scale\n",
    "\n",
    "    self.tic = time.time()\n",
    "\n",
    "  def plot(self, data):\n",
    "    if time.time() - self.tic > self.sec:\n",
    "      plt.cla()\n",
    "\n",
    "      if self.scale is None:\n",
    "        plt.plot(data)\n",
    "      elif self.scale == 'semilogx':\n",
    "        plt.semilogx(data)\n",
    "      elif self.scale == 'semilogy':\n",
    "        plt.semilogy(data)\n",
    "      elif self.scale == 'loglog':\n",
    "        plt.loglog(data)\n",
    "      else:\n",
    "        raise ValueError(\"unrecognized parameter scale {}\".format(self.scale))\n",
    "\n",
    "      plt.xlabel(self.xlabel); plt.ylabel(self.ylabel)\n",
    "      ipythondisplay.clear_output(wait=True)\n",
    "      ipythondisplay.display(plt.gcf())\n",
    "\n",
    "      self.tic = time.time()"
   ]
  },
  {
   "cell_type": "code",
   "execution_count": 18,
   "metadata": {},
   "outputs": [
    {
     "data": {
      "image/png": "[encoded data removed]",
      "text/plain": [
       "<Figure size 432x288 with 1 Axes>"
      ]
     },
     "metadata": {},
     "output_type": "display_data"
    },
    {
     "name": "stderr",
     "output_type": "stream",
     "text": [
      "100%|██████████| 2000/2000 [02:20<00:00, 14.19it/s]\n"
     ]
    },
    {
     "data": {
      "image/png": "[encoded data removed]",
      "text/plain": [
       "<Figure size 432x288 with 1 Axes>"
      ]
     },
     "metadata": {
      "needs_background": "light"
     },
     "output_type": "display_data"
    }
   ],
   "source": [
    "'''TODO: instantiate a new model for training using the `build_model`\n",
    "  function and the hyperparameters created above.'''\n",
    "model = build_model(vocab_size, embedding_dim, rnn_units, batch_size)\n",
    "\n",
    "'''TODO: instantiate an optimizer with its learning rate.\n",
    "  Checkout the tensorflow website for a list of supported optimizers.\n",
    "  https://www.tensorflow.org/api_docs/python/tf/keras/optimizers/\n",
    "  Try using the Adam optimizer to start.'''\n",
    "optimizer = tf.keras.optimizers.Adam(learning_rate)\n",
    "\n",
    "#@tf.function\n",
    "def train_step(x, y): \n",
    "  # Use tf.GradientTape()\n",
    "  with tf.GradientTape() as tape:\n",
    "  \n",
    "    '''TODO: feed the current input into the model and generate predictions'''\n",
    "    y_hat = model(x)\n",
    "  \n",
    "    '''TODO: compute the loss!'''\n",
    "    loss = compute_loss(y, y_hat)\n",
    "\n",
    "  # Now, compute the gradients \n",
    "  '''TODO: complete the function call for gradient computation. \n",
    "      Remember that we want the gradient of the loss with respect all \n",
    "      of the model parameters. \n",
    "      HINT: use `model.trainable_variables` to get a list of all model\n",
    "      parameters.'''\n",
    "  grads = tape.gradient(loss, model.trainable_variables)\n",
    "  \n",
    "  # Apply the gradients to the optimizer so it can update the model accordingly\n",
    "  optimizer.apply_gradients(zip(grads, model.trainable_variables))\n",
    "  return loss\n",
    "\n",
    "###################\n",
    "# Begin training! #\n",
    "###################\n",
    "\n",
    "history = []\n",
    "plotter = PeriodicPlotter(sec=2, xlabel='Iterations', ylabel='Loss')\n",
    "if hasattr(tqdm, '_instances'): tqdm._instances.clear() # clear if it exists\n",
    "\n",
    "for iter in tqdm(range(num_training_iterations)):\n",
    "\n",
    "  # Grab a batch and propagate it through the network\n",
    "  x_batch, y_batch = get_batch(vectorized_songs, seq_length, batch_size)\n",
    "  loss = train_step(x_batch, y_batch)\n",
    "\n",
    "  # Update the progress bar\n",
    "  history.append(loss.numpy().mean())\n",
    "  plotter.plot(history)\n",
    "\n",
    "  # Update the model with the changed weights!\n",
    "  if iter % 100 == 0:     \n",
    "    model.save_weights(checkpoint_prefix)\n",
    "    \n",
    "# Save the trained model and the weights\n",
    "model.save_weights(checkpoint_prefix)"
   ]
  },
  {
   "cell_type": "markdown",
   "metadata": {},
   "source": [
    "## Generate music using the RNN model"
   ]
  },
  {
   "cell_type": "markdown",
   "metadata": {},
   "source": [
    "### Restore the latest checkpoint"
   ]
  },
  {
   "cell_type": "code",
   "execution_count": 19,
   "metadata": {},
   "outputs": [],
   "source": [
    "model = build_model(vocab_size, embedding_dim, rnn_units, batch_size=1)\n",
    "\n",
    "# Restore the model weights for the last checkpoint after training\n",
    "model.load_weights(tf.train.latest_checkpoint(checkpoint_dir))\n",
    "model.build(tf.TensorShape([1, None]))\n",
    "\n",
    "# model.summary()"
   ]
  },
  {
   "cell_type": "markdown",
   "metadata": {},
   "source": [
    "### The prediction procedure"
   ]
  },
  {
   "cell_type": "code",
   "execution_count": 20,
   "metadata": {},
   "outputs": [],
   "source": [
    "def generate_text(model, start_string, choose='length', generation_length=None, n_songs=None):\n",
    "  input_eval = [char2idx[s] for s in start_string]\n",
    "  input_eval = tf.expand_dims(input_eval, 0)\n",
    "\n",
    "  text_generated = []\n",
    "\n",
    "  model.reset_states()\n",
    "  tqdm._instances.clear()\n",
    "\n",
    "  if choose=='length':\n",
    "    n = generation_length\n",
    "    for i in tqdm(range(n)):\n",
    "      predictions = model(input_eval)\n",
    "      predictions = tf.squeeze(predictions, 0)\n",
    "      predicted_id = tf.random.categorical(predictions, num_samples=1)[-1,0].numpy()\n",
    "      input_eval = tf.expand_dims([predicted_id], 0)\n",
    "      text_generated.append(idx2char[predicted_id])\n",
    "    \n",
    "    text = (start_string + ''.join(text_generated))\n",
    "  \n",
    "  if choose=='n_songs':\n",
    "    n = 0\n",
    "    with tqdm(total=n_songs) as pbar:\n",
    "      while n < n_songs:\n",
    "        n0 = n\n",
    "        predictions = model(input_eval)\n",
    "        predictions = tf.squeeze(predictions, 0)\n",
    "        predicted_id = tf.random.categorical(predictions, num_samples=1)[-1,0].numpy()\n",
    "        input_eval = tf.expand_dims([predicted_id], 0)\n",
    "        text_generated.append(idx2char[predicted_id])\n",
    "        text = (start_string + ''.join(text_generated))\n",
    "        aux = extract_song_snippet(text)\n",
    "        n = len(aux)\n",
    "        if n > n0: \n",
    "          pbar.update(1)\n",
    "    \n",
    "  return text"
   ]
  },
  {
   "cell_type": "code",
   "execution_count": 21,
   "metadata": {},
   "outputs": [
    {
     "name": "stderr",
     "output_type": "stream",
     "text": [
      "100%|██████████| 1000/1000 [00:05<00:00, 170.72it/s]"
     ]
    },
    {
     "name": "stdout",
     "output_type": "stream",
     "text": [
      "X:1\n",
      "T:._/d AGA|BGF G4|!\n",
      "AGA AB2 AFD|E3 E2D|DED DED|!\n",
      "D2:|!\n",
      "\n",
      "X:136\n",
      "T:Wisse|dgge f3e|dcdA BGdE|!\n",
      "ABcA BAFA|d^cdf e3a|gefd Adfa|fd=cd Bdd|]!\n",
      "\n",
      "X:17\n",
      "T:Brine to Musstt\n",
      "d/B/|A|dd e|ddd A2g|!\n",
      "gfe dcB|d2B A2G|FDD D3|ABA ABc|dfe d3:|!\n",
      "Add fdg|fgf Afe|Aff cff|!\n",
      "g3 A2f|efe d2A|BGF G2:|!\n",
      "\n",
      "X:18\n",
      "T:Fat of the Ryan's\n",
      "Z: id:dc-reel-324\n",
      "M:C\n",
      "L:1/8\n",
      "K:A Dorian\n",
      "BA|BEE2 d2cB|AFEF GABG|Adce df|Bgdg BdGc|Addd Addc|AGG2 DGdg|fgfd edd^c|dcdA BAG2:|!\n",
      "eAcA Adfd|edcd Adfd|efcd BAFA|dcdf eAA2|Adfd gfed:|!\n",
      "ecgd gdfd|cdec ABde|fecA Bddf|!\n",
      "efge fdcA|ABAG FDD:|!\n",
      "F|G,CC2 DGBG|AGAB G3-|A,DDC B,DG,D|CDED DCDE|GABG FFD2:|!\n",
      "\n",
      "X:77\n",
      "T:Swedy's Bryane the B|A2cA ABcd|efcB cAA:|!\n",
      "\n",
      "X:58\n",
      "T:Humours of Ratherman's\n",
      "Z: id:dc-reel-113\n",
      "M:C\n",
      "L:1/8\n",
      "K:G Major\n",
      "a2|B2 AG/A/|Be eF|AF DA|Bd e2|c/e/f/A/Gc|!\n",
      "FDD/F/D/F/D/ F/G/|FA A/B/A/|!\n",
      "F2 E2|E2 EF/D/|b/f/e/d/ F/D/|F/D/ B/A/G/E/G/|!\n",
      "Ad GA|Bc e2|d/g/f/d/e/|dB AF|GA B/c/d/A/G/A/|!\n",
      "D>F GA|BG B/d/e/f/|gf AF|G4 Bd|efe e2|!\n",
      "df d2|e4 d2|d4 d2|d4 d2|c4 A2|G4 BG|E4 D2|!\n",
      "D3 D|EdFC DCCE DEFG|Ad^cd d2g2|!\n",
      "dBAG FDDC|F\n"
     ]
    },
    {
     "name": "stderr",
     "output_type": "stream",
     "text": [
      "\n"
     ]
    }
   ],
   "source": [
    "generated_text = generate_text(model, start_string=\"X:1\\nT:\", choose='length', generation_length=1000)\n",
    "# generated_text = generate_text(model, start_string=\"X:1\\nT:\", choose='n_songs', n_songs=5)\n",
    "print(generated_text)"
   ]
  },
  {
   "cell_type": "code",
   "execution_count": 22,
   "metadata": {},
   "outputs": [
    {
     "name": "stdout",
     "output_type": "stream",
     "text": [
      "['X:1\\nT:._/d AGA|BGF G4|!\\nAGA AB2 AFD|E3 E2D|DED DED|!\\nD2:|!', 'X:136\\nT:Wisse|dgge f3e|dcdA BGdE|!\\nABcA BAFA|d^cdf e3a|gefd Adfa|fd=cd Bdd|]!', 'X:17\\nT:Brine to Musstt\\nd/B/|A|dd e|ddd A2g|!\\ngfe dcB|d2B A2G|FDD D3|ABA ABc|dfe d3:|!\\nAdd fdg|fgf Afe|Aff cff|!\\ng3 A2f|efe d2A|BGF G2:|!', \"X:18\\nT:Fat of the Ryan's\\nZ: id:dc-reel-324\\nM:C\\nL:1/8\\nK:A Dorian\\nBA|BEE2 d2cB|AFEF GABG|Adce df|Bgdg BdGc|Addd Addc|AGG2 DGdg|fgfd edd^c|dcdA BAG2:|!\\neAcA Adfd|edcd Adfd|efcd BAFA|dcdf eAA2|Adfd gfed:|!\\necgd gdfd|cdec ABde|fecA Bddf|!\\nefge fdcA|ABAG FDD:|!\\nF|G,CC2 DGBG|AGAB G3-|A,DDC B,DG,D|CDED DCDE|GABG FFD2:|!\", \"X:77\\nT:Swedy's Bryane the B|A2cA ABcd|efcB cAA:|!\"]\n",
      "5\n"
     ]
    }
   ],
   "source": [
    "generated_songs = extract_song_snippet(generated_text)\n",
    "print(generated_songs)\n",
    "print(len(generated_songs))"
   ]
  },
  {
   "cell_type": "code",
   "execution_count": 23,
   "metadata": {},
   "outputs": [],
   "source": [
    "# from music21 import converter\n",
    "# dir = 'geradas/teste'\n",
    "# musica = 'gen2'\n",
    "# s = converter.parse(dir+'/'+musica+'.abc')\n",
    "# #s.show('midi')\n",
    "# s.write('midi',fp=dir+'/'+musica+'.mid')\n",
    "\n",
    "# def save_song_to_abc(song, filename=\"tmp\"):\n",
    "#     save_name = \"{}.abc\".format(filename)\n",
    "#     with open(save_name, \"w\") as f:\n",
    "#         f.write(song)\n",
    "#     return filename"
   ]
  },
  {
   "cell_type": "code",
   "execution_count": 24,
   "metadata": {},
   "outputs": [],
   "source": [
    "# caminhos\n",
    "# - aparentemente, o código gera as músicas como deveria, mas sem reprodutibilidade...\n",
    "# - inserir qualquer comando de fixar semente em \"get_batch()\" está dando problema\n",
    "# - no entando, é possível fixar semente para peso inicial e para gerar caracteres/músicas dado o modelo com os pesos carregados (testar melhor)\n",
    "# - talvez vale a pena criar alguns modelos deixando os pesos salvos, e gerar as músicas com base em uma seed determinada\n",
    "# - talvez estabilizando o código, dê para realizar a computação na CPU para garantir reprodutibilidade\n",
    "# próximos passos código\n",
    "# - criar função para gerar midi partindo de ABC\n",
    "# - limpar/manipular arquivos ABC para brincar com predição"
   ]
  }
 ],
 "metadata": {
  "kernelspec": {
   "display_name": "Python 3.9.12 ('tcc')",
   "language": "python",
   "name": "python3"
  },
  "language_info": {
   "codemirror_mode": {
    "name": "ipython",
    "version": 3
   },
   "file_extension": ".py",
   "mimetype": "text/x-python",
   "name": "python",
   "nbconvert_exporter": "python",
   "pygments_lexer": "ipython3",
   "version": "3.9.12"
  },
  "orig_nbformat": 4,
  "vscode": {
   "interpreter": {
    "hash": "c8423169460a4ab7c0196f3b7f025b4f11bf11307ee8777457d830da4956ded6"
   }
  }
 },
 "nbformat": 4,
 "nbformat_minor": 2
}
