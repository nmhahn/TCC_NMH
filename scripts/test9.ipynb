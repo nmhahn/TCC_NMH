{
 "cells": [
  {
   "cell_type": "markdown",
   "metadata": {},
   "source": [
    "# Código Base (Inspiração)\n",
    "\n",
    "* link: https://goodboychan.github.io/python/tensorflow/mit/2021/02/14/music-generation.html\n",
    "* link2: https://machinelearningmastery.com/text-generation-lstm-recurrent-neural-networks-python-keras/\n",
    "* link3: https://stackoverflow.com/questions/48118111/get-loss-values-for-each-training-instance-keras"
   ]
  },
  {
   "cell_type": "markdown",
   "metadata": {},
   "source": [
    "# Bibliotecas"
   ]
  },
  {
   "cell_type": "code",
   "execution_count": 1,
   "metadata": {},
   "outputs": [],
   "source": [
    "# Ignore  the warnings\n",
    "import warnings\n",
    "warnings.filterwarnings('always')\n",
    "warnings.filterwarnings('ignore')\n",
    "import os\n",
    "os.environ['TF_CPP_MIN_LOG_LEVEL'] = '3'\n",
    "import tensorflow as tf \n",
    "tf.compat.v1.logging.set_verbosity(tf.compat.v1.logging.ERROR) # tf warning\n",
    "\n",
    "# libraries\n",
    "import numpy as np\n",
    "import time\n",
    "import regex as re\n",
    "from IPython import display as ipythondisplay\n",
    "from tqdm import tqdm\n",
    "import matplotlib.pyplot as plt\n",
    "from music21 import converter\n",
    "import collections\n",
    "import random\n",
    "from sklearn.model_selection import train_test_split\n",
    "\n",
    "# fixa para executar na CPU (determinismo)\n",
    "# devices = tf.config.list_physical_devices()\n",
    "# tf.config.experimental.set_visible_devices(devices[0]) \n",
    "\n",
    "# semente aleatória\n",
    "global_seed=301831\n",
    "np.random.seed(global_seed)\n",
    "random.seed(global_seed)\n",
    "tf.random.set_seed(global_seed)"
   ]
  },
  {
   "cell_type": "markdown",
   "metadata": {},
   "source": [
    "# Dados"
   ]
  },
  {
   "cell_type": "code",
   "execution_count": 2,
   "metadata": {},
   "outputs": [],
   "source": [
    "def extract_song_snippet(text):\n",
    "    pattern = '(^|\\n\\n)(.*?)\\n\\n'\n",
    "    search_results = re.findall(pattern, text, overlapped=True, flags=re.DOTALL)\n",
    "    songs = [song[1] for song in search_results]\n",
    "    # print(\"Found {} songs in text\".format(len(songs)))\n",
    "    return songs"
   ]
  },
  {
   "cell_type": "markdown",
   "metadata": {},
   "source": [
    "## Irish Dataset"
   ]
  },
  {
   "cell_type": "code",
   "execution_count": null,
   "metadata": {},
   "outputs": [],
   "source": [
    "# cwd = os.getcwd()\n",
    "# songs = []\n",
    "\n",
    "# with open(os.path.join(cwd, 'data', 'irish', 'irish.abc'), 'r') as f:\n",
    "#     text = f.read()\n",
    "#     songs = extract_song_snippet(text)\n",
    "\n",
    "# # # Exemplo de musica\n",
    "# # example_song = songs[0]\n",
    "# # print(\"\\nExample song: \")\n",
    "# # print(example_song)"
   ]
  },
  {
   "cell_type": "markdown",
   "metadata": {},
   "source": [
    "## ABC Notation Dataset"
   ]
  },
  {
   "cell_type": "code",
   "execution_count": 3,
   "metadata": {},
   "outputs": [
    {
     "name": "stdout",
     "output_type": "stream",
     "text": [
      "Found 184900 songs in directory\n"
     ]
    }
   ],
   "source": [
    "def abc_filenames(datapath='abcnotation_midi-test', count=False):\n",
    "    songs = [os.path.join(datapath, f) for f in os.listdir(datapath) if os.path.isfile(os.path.join(datapath, f))]\n",
    "    if count==True:\n",
    "        print('Found {} songs in directory'.format(len(songs)))\n",
    "    return songs\n",
    "\n",
    "datapath = \"./data/abcnotation\"\n",
    "filenames = abc_filenames(datapath, count=False)\n",
    "idx = np.random.choice(len(filenames), 500, replace=False)\n",
    "filenames_selected = [filenames[i] for i in idx]\n",
    "songs_text = ''\n",
    "for filename in filenames_selected: \n",
    "    try:\n",
    "            f = open(filename,'r', encoding='utf8')\n",
    "            text = f.read()\n",
    "            text = re.findall('X:.*', text, overlapped=True, flags=re.DOTALL)[0]\n",
    "            songs_text += text\n",
    "            f.close()\n",
    "    except:\n",
    "        print(\"Erro em:\", filename)\n",
    "        pass\n",
    "\n",
    "songs = extract_song_snippet(songs_text)\n",
    "\n",
    "# print(len(songs))\n",
    "# print(len(filenames))\n",
    "\n",
    "# example_song = songs[1]\n",
    "# print(\"\\nExample song: \")\n",
    "# print(example_song)"
   ]
  },
  {
   "cell_type": "markdown",
   "metadata": {},
   "source": [
    "# Tratando Base de Dados"
   ]
  },
  {
   "cell_type": "code",
   "execution_count": 4,
   "metadata": {},
   "outputs": [],
   "source": [
    "def clean_abc(abc_song, show_rslt=False):\n",
    "    # original .abc\n",
    "    text = abc_song\n",
    "    new_text = text\n",
    "\n",
    "    # # remove index field\n",
    "    # new_text = re.sub('(X:).*\\n', '', new_text)\n",
    "\n",
    "    # remove title field\n",
    "    new_text = re.sub('(T:).*\\n', '', new_text)\n",
    "\n",
    "    # remove composer field\n",
    "    new_text = re.sub('(C:).*\\n', '', new_text)\n",
    "\n",
    "    # remove source field\n",
    "    new_text = re.sub('(S:).*\\n', '', new_text)\n",
    "\n",
    "    # remove geographical origin field\n",
    "    new_text = re.sub('(O:).*\\n', '', new_text)\n",
    "\n",
    "    # remove textual notes field\n",
    "    new_text = re.sub('(N:).*\\n', '', new_text)\n",
    "\n",
    "    # remove identity of transcriber/source of transcription field\n",
    "    new_text = re.sub('(Z:).*\\n', '', new_text)\n",
    "\n",
    "    # remove lyrics\n",
    "    new_text = re.sub('([wW]:).*\\n','',new_text)\n",
    "    new_text = re.sub('[wW]:','',new_text)\n",
    "\n",
    "\n",
    "    # remove comments\n",
    "    new_text = re.sub('(%).*\\n','',new_text)\n",
    "\n",
    "    # remove other fields\n",
    "    new_text = re.sub('(R:).*\\n','',new_text)\n",
    "    new_text = re.sub('(I:).*\\n','',new_text)\n",
    "    new_text = re.sub('(B:).*\\n','',new_text)\n",
    "\n",
    "    if show_rslt==True:\n",
    "        # print results\n",
    "        print('original: '+str(len(text))+' characters'+'\\n' + text)\n",
    "        print()\n",
    "        print('after modification: '+str(len(new_text))+' characters'+'\\n' + new_text)\n",
    "\n",
    "    return new_text\n",
    "\n",
    "# example_song2 = clean_abc(songs[3], show_rslt=True)\n",
    "# print(example_song2)"
   ]
  },
  {
   "cell_type": "code",
   "execution_count": 5,
   "metadata": {},
   "outputs": [
    {
     "name": "stdout",
     "output_type": "stream",
     "text": [
      "Total Characters: 194944\n",
      "Total Vocab: 101\n"
     ]
    }
   ],
   "source": [
    "def extract_vocab(text):\n",
    "    vocab = sorted(set(text))\n",
    "    return {u:i for i, u in enumerate(vocab)}\n",
    "\n",
    "for i in range(len(songs)):\n",
    "    songs[i] = clean_abc(songs[i])\n",
    "\n",
    "songs_joined = \"\\n\\n\".join(songs) \n",
    "\n",
    "# caracteres únicos disponíveis\n",
    "vocab = extract_vocab(songs_joined)\n",
    "\n",
    "print('Total Characters:', len(songs_joined))\n",
    "print('Total Vocab:', len(vocab))\n",
    "\n",
    "songs_train, songs_test = train_test_split(songs, train_size = 0.80)\n",
    "songs_train_joined = \"\\n\\n\".join(songs_train)\n",
    "songs_test_joined = \"\\n\\n\".join(songs_test)"
   ]
  },
  {
   "cell_type": "code",
   "execution_count": 6,
   "metadata": {},
   "outputs": [],
   "source": [
    "# Create a mapping from character to unique index\n",
    "def char2idx(string, vocab=None):\n",
    "    if vocab==None:\n",
    "        vocab = extract_vocab(string)\n",
    "    vectorized_list = np.array([vocab[s] for s in string])\n",
    "    return vectorized_list\n",
    "\n",
    "# Create a mapping from indices to characters\n",
    "def idx2char(idx, vocab):\n",
    "    keys = list(vocab.keys())\n",
    "    string = ''\n",
    "    if isinstance(idx, collections.Iterable):\n",
    "        for i in idx:\n",
    "            string += keys[i]\n",
    "    else:\n",
    "        string += keys[idx]\n",
    "    return string"
   ]
  },
  {
   "cell_type": "markdown",
   "metadata": {},
   "source": [
    "# Preparando Dados para Treino (Ajuste) do Modelo"
   ]
  },
  {
   "cell_type": "code",
   "execution_count": 7,
   "metadata": {},
   "outputs": [],
   "source": [
    "def prepare_train_data(vectorized_string, seq_length, method, batch_size=None, vocab=None):\n",
    "\n",
    "  # Todas as Combinações + One Hot Encoding (Dummies)\n",
    "  if method == 'full':\n",
    "    x_train = []\n",
    "    y_train = []\n",
    "\n",
    "    n = len(vectorized_string)\n",
    "\n",
    "    for i in range(0, n-seq_length, 1):\n",
    "      seq_in = vectorized_string[i:i + seq_length]\n",
    "      seq_out = vectorized_string[i + seq_length]\n",
    "      x_train.append(seq_in)\n",
    "      y_train.append(seq_out)\n",
    "\n",
    "    n_patterns = len(x_train)\n",
    "\n",
    "    x_train = np.reshape(x_train, (n_patterns, seq_length, 1))\n",
    "    # normalize\n",
    "    x_train = x_train / float(len(vocab))\n",
    "    # one hot encode the output variable\n",
    "    y_train = tf.keras.utils.to_categorical(y_train)\n",
    "\n",
    "\n",
    "  # Lotes com tamanho específico + Word Embedding\n",
    "  if method == 'batch':\n",
    "    n = len(vectorized_string) - 1\n",
    "    idx = np.random.choice(n-seq_length, batch_size)\n",
    "    seq_in = [vectorized_string[i:i+seq_length] for i in idx]\n",
    "    seq_out = [vectorized_string[i+1: i+1+seq_length] for i in idx]\n",
    "\n",
    "    x_train = np.reshape(seq_in, [batch_size, seq_length])\n",
    "    y_train = np.reshape(seq_out, [batch_size, seq_length])\n",
    "\n",
    "  return x_train, y_train"
   ]
  },
  {
   "cell_type": "markdown",
   "metadata": {},
   "source": [
    "# RNN LSTM Model"
   ]
  },
  {
   "cell_type": "code",
   "execution_count": 8,
   "metadata": {},
   "outputs": [],
   "source": [
    "def build_model_wordEmbed(vocab_size, embedding_dim, rnn_units, batch_size):\n",
    "  model = tf.keras.Sequential([\n",
    "    # Layer 1: Embedding layer to transform indices into dense vectors \n",
    "    #   of a fixed embedding size\n",
    "    tf.keras.layers.Embedding(vocab_size, embedding_dim, batch_input_shape=[batch_size, None]),\n",
    "\n",
    "    # Layer 2: LSTM with `rnn_units` number of units. \n",
    "    tf.keras.layers.LSTM(\n",
    "    units=rnn_units, \n",
    "    activation='tanh',\n",
    "    recurrent_activation='sigmoid',\n",
    "    recurrent_initializer='glorot_uniform',\n",
    "    use_bias=True,\n",
    "    bias_initializer='zeros',\n",
    "    return_sequences=True, \n",
    "    stateful=True\n",
    "    ),\n",
    "\n",
    "    # Layer 3: Dense (fully-connected) layer that transforms the LSTM output\n",
    "    #   into the vocabulary size. \n",
    "    tf.keras.layers.Dense(units=vocab_size)\n",
    "  ])\n",
    "\n",
    "  return model\n",
    "\n",
    "\n",
    "def build_model_oneHotEnc(rnn_units, x_train, y_train):\n",
    "  model = tf.keras.Sequential([\n",
    "    # Layer 1: LSTM with `rnn_units` number of units. \n",
    "    tf.keras.layers.LSTM(\n",
    "    units=rnn_units,\n",
    "    input_shape=(x_train.shape[1], x_train.shape[2]), \n",
    "    activation='tanh',\n",
    "    recurrent_activation='sigmoid',\n",
    "    recurrent_initializer='glorot_uniform',\n",
    "    use_bias=True,\n",
    "    bias_initializer='zeros',\n",
    "    return_sequences=False, \n",
    "    stateful=False,\n",
    "    ),\n",
    "\n",
    "    # Layer 2: Dense (fully-connected) layer that transforms the LSTM output\n",
    "    #   into the vocabulary size. \n",
    "    tf.keras.layers.Dense(units=y_train.shape[1], activation='softmax')\n",
    "  ])\n",
    "\n",
    "  return model\n"
   ]
  },
  {
   "cell_type": "code",
   "execution_count": 9,
   "metadata": {},
   "outputs": [],
   "source": [
    "def compute_loss_wordEmbed(labels, logits):\n",
    "  loss = tf.keras.losses.sparse_categorical_crossentropy(labels, logits, from_logits=True)\n",
    "  return loss\n",
    "\n",
    "def train_step_wordEmbed(x, y): \n",
    "  with tf.GradientTape() as tape:\n",
    "    y_hat = model(x)\n",
    "    loss = compute_loss_wordEmbed(y, y_hat)\n",
    "\n",
    "  grads = tape.gradient(loss, model.trainable_variables)  \n",
    "  optimizer.apply_gradients(zip(grads, model.trainable_variables))\n",
    "\n",
    "  return loss\n",
    "  \n",
    "\n",
    "class PeriodicPlotter:\n",
    "  def __init__(self, sec, xlabel='', ylabel='', scale=None):\n",
    "\n",
    "    self.xlabel = xlabel\n",
    "    self.ylabel = ylabel\n",
    "    self.sec = sec\n",
    "    self.scale = scale\n",
    "\n",
    "    self.tic = time.time()\n",
    "\n",
    "  def plot(self, data):\n",
    "    if time.time() - self.tic > self.sec:\n",
    "      plt.cla()\n",
    "\n",
    "      if self.scale is None:\n",
    "        plt.plot(data)\n",
    "      elif self.scale == 'semilogx':\n",
    "        plt.semilogx(data)\n",
    "      elif self.scale == 'semilogy':\n",
    "        plt.semilogy(data)\n",
    "      elif self.scale == 'loglog':\n",
    "        plt.loglog(data)\n",
    "      else:\n",
    "        raise ValueError(\"unrecognized parameter scale {}\".format(self.scale))\n",
    "\n",
    "      plt.xlabel(self.xlabel); plt.ylabel(self.ylabel)\n",
    "      ipythondisplay.clear_output(wait=True)\n",
    "      ipythondisplay.display(plt.gcf())\n",
    "\n",
    "      self.tic = time.time()\n",
    "  \n",
    "class LossHistory(tf.keras.callbacks.Callback):\n",
    "    def on_train_begin(self, logs={}):\n",
    "        self.losses = []\n",
    "\n",
    "    def on_batch_end(self, batch, logs={}):\n",
    "        self.losses.append(logs.get('loss'))\n"
   ]
  },
  {
   "cell_type": "code",
   "execution_count": 10,
   "metadata": {},
   "outputs": [],
   "source": [
    "# parameters\n",
    "epochs = 2000  # Increase this to train longer\n",
    "batch_size = 4  # Experiment between 1 and 64\n",
    "seq_length = 50  # Experiment between 50 and 500\n",
    "learning_rate = 1e-3  # Experiment between 1e-5 and 1e-1 \n",
    "vocab_size = len(vocab)\n",
    "embedding_dim = 256 # Experiment between 8 and 1024\n",
    "lstm_units = 1024  # Experiment between 1 and 2048\n",
    "\n",
    "# Checkpoint location: \n",
    "checkpoint_dir = './training_checkpoints'\n",
    "checkpoint_prefix = os.path.join(checkpoint_dir, \"my_ckpt\")\n",
    "\n",
    "# train | test\n",
    "vec_songs_train = char2idx(songs_train_joined, vocab)\n",
    "vec_songs_test = char2idx(songs_test_joined, vocab)"
   ]
  },
  {
   "cell_type": "markdown",
   "metadata": {},
   "source": [
    "## Batch + Word Embedding"
   ]
  },
  {
   "cell_type": "code",
   "execution_count": 14,
   "metadata": {},
   "outputs": [],
   "source": [
    "model = build_model_wordEmbed(vocab_size, embedding_dim, lstm_units, batch_size)\n",
    "optimizer = tf.keras.optimizers.Adam(learning_rate)"
   ]
  },
  {
   "cell_type": "code",
   "execution_count": 15,
   "metadata": {},
   "outputs": [
    {
     "data": {
      "image/png": "[encoded data removed]",
      "text/plain": [
       "<Figure size 432x288 with 1 Axes>"
      ]
     },
     "metadata": {
      "image/png": {
       "height": 261,
       "width": 376
      }
     },
     "output_type": "display_data"
    },
    {
     "name": "stderr",
     "output_type": "stream",
     "text": [
      "100%|██████████| 2000/2000 [01:41<00:00, 19.64it/s]\n"
     ]
    },
    {
     "data": {
      "image/png": "[encoded data removed]",
      "text/plain": [
       "<Figure size 432x288 with 1 Axes>"
      ]
     },
     "metadata": {
      "image/png": {
       "height": 261,
       "width": 376
      },
      "needs_background": "light"
     },
     "output_type": "display_data"
    }
   ],
   "source": [
    "###################\n",
    "# Begin training! #\n",
    "###################\n",
    "\n",
    "history = []\n",
    "plotter = PeriodicPlotter(sec=2, xlabel='Iterations', ylabel='Loss')\n",
    "if hasattr(tqdm, '_instances'): tqdm._instances.clear() # clear if it exists\n",
    "\n",
    "for iter in tqdm(range(epochs)):\n",
    "\n",
    "    # Grab a batch and propagate it through the network\n",
    "    x_train, y_train = prepare_train_data(vectorized_string=vec_songs_train, seq_length=seq_length, method='batch', batch_size=batch_size)\n",
    "    train_loss = train_step_wordEmbed(x_train, y_train)\n",
    "    train_loss = train_loss.numpy().mean()\n",
    "\n",
    "    # Update the progress bar\n",
    "    history.append(train_loss)\n",
    "    plotter.plot(history)\n",
    "\n",
    "    # Update the model with the changed weights!\n",
    "    if iter % 100 == 0:     \n",
    "        model.save_weights(checkpoint_prefix)\n",
    "    \n",
    "# Save the trained model and the weights\n",
    "model.save_weights(checkpoint_prefix)\n"
   ]
  },
  {
   "cell_type": "code",
   "execution_count": 16,
   "metadata": {},
   "outputs": [
    {
     "name": "stderr",
     "output_type": "stream",
     "text": [
      "100%|██████████| 2000/2000 [00:33<00:00, 59.04it/s]\n"
     ]
    }
   ],
   "source": [
    "x_test, y_test = prepare_train_data(vectorized_string=vec_songs_test, seq_length=seq_length, method='batch', batch_size=batch_size)\n",
    "loss = []\n",
    "\n",
    "if hasattr(tqdm, '_instances'): tqdm._instances.clear() # clear if it exists\n",
    "for i in tqdm(range(epochs)):\n",
    "    y_hat = model(x_test)\n",
    "    test_loss = compute_loss_wordEmbed(y_test, y_hat)\n",
    "    test_loss = test_loss.numpy().mean()\n",
    "    loss.append(test_loss)\n",
    "test_loss = np.mean(loss)"
   ]
  },
  {
   "cell_type": "code",
   "execution_count": 17,
   "metadata": {},
   "outputs": [
    {
     "name": "stdout",
     "output_type": "stream",
     "text": [
      "train categorical cross-entropy loss = 1.6134812\n",
      "train perplexity (2**) = 3.05989291329999\n",
      "train perplexity (exp) = 5.020257\n",
      "\n",
      "test categorical cross-entropy loss = 1.4766865\n",
      "test perplexity (2**) = 2.7830879052765347\n",
      "test perplexity (exp) = 4.3784137\n"
     ]
    }
   ],
   "source": [
    "print('train categorical cross-entropy loss =', train_loss)\n",
    "print('train perplexity (2**) =', 2**(train_loss))\n",
    "print('train perplexity (exp) =', tf.exp(train_loss).numpy())\n",
    "print()\n",
    "print('test categorical cross-entropy loss =', test_loss)\n",
    "print('test perplexity (2**) =', 2**(test_loss))\n",
    "print('test perplexity (exp) =', tf.exp(test_loss).numpy())"
   ]
  },
  {
   "cell_type": "code",
   "execution_count": 18,
   "metadata": {},
   "outputs": [],
   "source": [
    "def generate_text_wordEmbed(model, start_string, vocab, generation_length):\n",
    "  input_eval = [char2idx(s, vocab) for s in start_string]\n",
    "  input_eval = tf.expand_dims(input_eval, 0)\n",
    "\n",
    "  text_generated = []\n",
    "\n",
    "  model.reset_states()\n",
    "  \n",
    "  for i in range(generation_length):\n",
    "    predictions = model(input_eval)\n",
    "    predictions = tf.squeeze(predictions, 0)\n",
    "    predicted_id = tf.random.categorical(predictions, num_samples=1)[-1,0].numpy()\n",
    "    input_eval = tf.expand_dims([predicted_id], 0)\n",
    "    text_generated.append(idx2char(predicted_id, vocab))\n",
    "    \n",
    "  text = (start_string + ''.join(text_generated))\n",
    "    \n",
    "  return text"
   ]
  },
  {
   "cell_type": "code",
   "execution_count": 19,
   "metadata": {},
   "outputs": [
    {
     "name": "stderr",
     "output_type": "stream",
     "text": [
      "6it [00:34,  5.67s/it]                       \n"
     ]
    }
   ],
   "source": [
    "model = build_model_wordEmbed(vocab_size, embedding_dim, lstm_units, batch_size=1)\n",
    "model.load_weights(tf.train.latest_checkpoint(checkpoint_dir))\n",
    "model.build(tf.TensorShape([1, None]))\n",
    "\n",
    "n_songs = 5\n",
    "new_songs = []\n",
    "\n",
    "tqdm._instances.clear()\n",
    "with tqdm(total=n_songs) as pbar:\n",
    "    while len(new_songs) < n_songs:\n",
    "        n0 = len(new_songs)\n",
    "        generated_text = generate_text_wordEmbed(model, start_string='X:', vocab=vocab, generation_length=1000)\n",
    "        generated_songs = extract_song_snippet(generated_text)\n",
    "        for song in generated_songs:\n",
    "            new_songs.append(song)\n",
    "        if len(new_songs) > n0:\n",
    "            pbar.update(len(new_songs)-n0)\n",
    "    \n",
    "new_songs = new_songs[0:n_songs]"
   ]
  },
  {
   "cell_type": "code",
   "execution_count": 20,
   "metadata": {},
   "outputs": [
    {
     "name": "stdout",
     "output_type": "stream",
     "text": [
      "X:1\n",
      "Q:1/4=10\n",
      "|:D2A2B2A2|G2G2F2|\n",
      "G2|!G2 F2 FD|EEG2B2|\\\n",
      "A2E2E2 F4 A2 G2|d6 g2 f2 B3\"A\"A2 G4 | \"F\"G2 E2 \"C7\"F2G2 | \"F7\"G2F2 G2>G\"G4 | \"G7\"B3/B/G/G/2 G3/2v2\n",
      "M: A7\"DD G>G\"E>E | \"G\"D3- | G,2D2 | \"Em\"B<A F2 | \n",
      "\"C7\"e2b>a | \"Eb/C\"g>b | \n",
      "[V:4] C,>^ E,2D2z2 | \n",
      "[V:10] G,2z2] D2 F2||\n",
      "d2 d3 c|B6 B2|F4 | \n",
      "[V:4] D,4E,2C2- [|] \n",
      "[V:2]  | \n",
      "[V:4] E,4D,2 | \n",
      "[V:1] f2d2A2- | \n",
      "[V:3] c4z2 | \n",
      "[V:4] A,4E,2D,,2G,,2C,2 | \n",
      "[V:10] C,2z2 | \n",
      "[V:1] c6c4 | \n",
      "[V:4] [F,2D,2(C2F,2D,2 | \n",
      "[V:1] z4G3 | \n",
      "[V:2] c2dG | \n",
      "[V:3] E,E,CC3- | \n",
      "[V:1] d2c2cBA2 | \n",
      "[V:2] c6z2 | \n",
      "[V:3] z8 ||  \n",
      "[V:3] g3fee | \n",
      "[V:2] [c2G3][!wdc][B2A2-[_Ad][G2D2][FAF]|_[A2F2][A=c4A2][FE|[A2F2][FEG2|[G2B2][A,2]G[C2-[AF][2F4]|[D6F2|G6 F2F|FE F2 FG E3|Acde dcB|Bc d eA|B2 d c2 c|e2 g|g2f2 c2d2|dfee d2 dd|Bfed cBGE|D>GAB ABdB|AGA2 BAB GB dBA:|\n",
      "B2dB efgf|e3d BAAB|\n",
      "[1 D3] :|\n",
      "M: 2/4\n",
      "L: 1/8\n",
      "K: Fmaj\n",
      "e2ec | efefe2 | e2a2=a2e3 | d2A2d2 :|\n",
      "\n",
      "X:1\n",
      "M:4/2\n",
      "L:1/8\n",
      "K:A\n",
      "f2 d B d|e3d d3 :|\n",
      "GAA B3 c|B3 4| \n",
      "c>e f2 g> | f>D B>A |\n",
      "\"E\"GA cB | \"G\"AGDD | \"C7\"AG ^F :| \"G\"GB cB dB | \"F\" G4\n",
      "g4 | d4 (dff | e2 f |   \"Eb\"a2 | (b3a) | \"G7\"d3z | \n",
      "[V:2] g4fd2 | \n",
      "[V:2] d6 | \n",
      "[V:4] C,G,A, G, | \n",
      "[V:1] A3A2B2- | \n",
      "[V:3] g2f2e2d4 | \n",
      "[V:3] d2e4 | \n",
      "[V:3] c4zD4 | \n",
      "[V:4] D,8- | \n",
      "[V:1] z6 | \n",
      "[V:1] D2F2A2F4 [|] \n",
      "[V:2] c4 | \n",
      "[V:3] c2cBc2d2- | \n",
      "[V:2] d2e2A2- | \n",
      "[V:4] A,4- | \n",
      "[V:1] [A2F2][F2G4][_A4B3] [[V:4] d2cAFe | \n",
      "[V:3] G8 | \n",
      "[V:6] z4 | \n",
      "[V:4] _8 | \n",
      "[V:1] cBce|def2e2 d2fd|d2d2e2>^g2d2|c6:|tt2e2z2 [cd][_e2g2][Bg-[g.agc|(A3G3/2F/2B2|\n",
      "\n",
      "X:1\n",
      "M:2/2\n",
      "L:1/16\n",
      "K:dm\n",
      "HA|cBAG E>Ad>e|d>fT=e>db>e f>ba>a d>fg>g|e>AB>A f>AB>A d<eg>c|e>ga>(a>s mat wertre po bu- es st mpib the tuddlend\n",
      "z3|z8 | \n",
      "[V:3] g2f4B2 | \n",
      "[V:4] [A4e4] [|] aG z9\n",
      "L:1/8\n",
      "K:Goe c<r\"e>d A>c | \"G/B/D/G/ \"G\"(GA)\"G.\"B2 \"G\"G2!B4 GA :|\n",
      "|:2|\n",
      "a2d d2G|dd2e3|A2[A2f2]|[32g2][F2g4][wef][=e2A2][[A3]f3^G|[GG]F2A | \"G\"c3 \"Am\"DG, | \"C7\"e2f \"G\"ef :|2 \"G\"b2gf4 | \"C\" D3c d>e | \"A\"c'B, | \n",
      "[V:4] E,4 | \n",
      "[V:1] [_EGF] [FA,3] | [d4 b4 f2 |e4 f4 e2  d2 Ha4 g4f4 | g4 | d8 f4 e>f|g4 b2 fe fg ef | d4 e\n",
      "L: 1/16\n",
      "K: D\n",
      "A2(d2 F] |\\\n",
      "G2zc G G A | G4 G >B | B2 e2 e2 |] - - -\n",
      "\n",
      "X:1\n",
      "`C|D2E2D|G2E2>2|q32CF \"A#\"z3A |\n",
      "\n",
      "X: 328\n",
      "L: 1/8\n",
      "K: Gmaj\n",
      "M:3/4\n",
      "L:11/8\n",
      "K:D\n",
      "Q:1/8\n",
      "K:Emin\n",
      "B3A B3A B3A d3:|\n",
      "e2 g b2f2 | g2f | \"D\"g2 g2 g2 f2 |\"g2b2z3 |: c2A2c2d2|\"Em\"A^GG \"D\"F3D||E2F2 E2E2|Bcd2fe|d'gf=e2na.tatthe ver\n",
      "P: heeld\n",
      "EFE ^FD C2|D, C, D,E, | \n",
      "[V:11] [K:G] f2c2B2-  |[F4F2][D2D2][g2B[c_d2][FE][FG,2][|] \n",
      "\n"
     ]
    }
   ],
   "source": [
    "for song in new_songs:\n",
    "    print(song)\n",
    "    print()"
   ]
  },
  {
   "cell_type": "markdown",
   "metadata": {},
   "source": [
    "## Full + One Hot Encoding"
   ]
  },
  {
   "cell_type": "code",
   "execution_count": null,
   "metadata": {},
   "outputs": [],
   "source": [
    "# x_train, y_train = prepare_train_data(vectorized_string=test_song, seq_length=seq_length, method='full', vocab=vocab)\n",
    "# x_train = x_train[0:200]\n",
    "# y_train = y_train[0:200]\n",
    "# model = build_model_oneHotEnc(lstm_units, x_train, y_train)\n",
    "# optimizer = tf.keras.optimizers.Adam(learning_rate)\n",
    "# model.compile(loss='categorical_crossentropy', optimizer=optimizer)"
   ]
  },
  {
   "cell_type": "code",
   "execution_count": null,
   "metadata": {},
   "outputs": [],
   "source": [
    "# ###################\n",
    "# # Begin training! #\n",
    "# ###################\n",
    "\n",
    "# history = []\n",
    "# plotter = PeriodicPlotter(sec=2, xlabel='Iterations', ylabel='Loss')\n",
    "# if hasattr(tqdm, '_instances'): tqdm._instances.clear() # clear if it exists\n",
    "\n",
    "# for iter in tqdm(range(10)):\n",
    "#     train_losses = LossHistory()\n",
    "#     model.fit(x_train, y_train, epochs=1, batch_size=batch_size, callbacks=train_losses)\n",
    "#     history.append(round(train_losses.losses[-1],4))\n",
    "#     plotter.plot(history)\n",
    "\n",
    "#     # Update the model with the changed weights!\n",
    "#     if iter % 100 == 0:     \n",
    "#         model.save_weights(checkpoint_prefix)\n",
    "\n",
    "# # Save the trained model and the weights\n",
    "# model.save_weights(checkpoint_prefix)"
   ]
  },
  {
   "cell_type": "code",
   "execution_count": null,
   "metadata": {},
   "outputs": [],
   "source": [
    "# import sys\n",
    "\n",
    "# seq_length = 100\n",
    "# dataX = []\n",
    "# dataY = []\n",
    "\n",
    "# for i in range(0, n_chars - seq_length, 1):\n",
    "#   seq_in = songs_joined[i:i + seq_length]\n",
    "#   seq_out = songs_joined[i + seq_length]\n",
    "#   dataX.append(char2idx(seq_in, vocab))\n",
    "#   dataY.append(char2idx(seq_out, vocab))\n",
    "\n",
    "# n_patterns = len(dataX)\n",
    "# print('Total Patterns:', n_patterns)\n",
    "\n",
    "# # pick a random seed\n",
    "# start = np.random.randint(0, len(dataX)-1)\n",
    "# pattern = list(dataX[start])\n",
    "# print(\"Seed (start string):\")\n",
    "# print(\"\\\"\", ''.join([idx2char(value, vocab) for value in pattern]), \"\\\"\")\n",
    "# # generate characters\n",
    "# for i in range(50):\n",
    "# \tx = np.reshape(pattern, (1, len(pattern), 1))\n",
    "# \tx = x / float(n_vocab)\n",
    "# \tprediction = model.predict(x, verbose=0)\n",
    "# \tindex = np.argmax(prediction)\n",
    "# \tresult = idx2char(index, vocab)\n",
    "# \tseq_in = [idx2char(value, vocab) for value in pattern]\n",
    "# \tsys.stdout.write(result)\n",
    "# \tpattern.append(index)\n",
    "# \tpattern = pattern[1:len(pattern)]\n",
    "# print(\"\\nDone.\")"
   ]
  }
 ],
 "metadata": {
  "kernelspec": {
   "display_name": "Python 3.9.12 ('tcc')",
   "language": "python",
   "name": "python3"
  },
  "language_info": {
   "codemirror_mode": {
    "name": "ipython",
    "version": 3
   },
   "file_extension": ".py",
   "mimetype": "text/x-python",
   "name": "python",
   "nbconvert_exporter": "python",
   "pygments_lexer": "ipython3",
   "version": "3.9.12"
  },
  "orig_nbformat": 4,
  "vscode": {
   "interpreter": {
    "hash": "c8423169460a4ab7c0196f3b7f025b4f11bf11307ee8777457d830da4956ded6"
   }
  }
 },
 "nbformat": 4,
 "nbformat_minor": 2
}
