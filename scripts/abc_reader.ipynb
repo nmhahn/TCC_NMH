{
 "cells": [
  {
   "cell_type": "markdown",
   "metadata": {},
   "source": [
    "# Loading Libraries"
   ]
  },
  {
   "cell_type": "markdown",
   "metadata": {},
   "source": [
    "* source: https://goodboychan.github.io/python/tensorflow/mit/2021/02/14/music-generation.html"
   ]
  },
  {
   "cell_type": "code",
   "execution_count": 111,
   "metadata": {},
   "outputs": [],
   "source": [
    "import tensorflow as tf\n",
    "import numpy as np\n",
    "import os\n",
    "import re\n",
    "import time\n",
    "from IPython import display as ipythondisplay\n",
    "import matplotlib.pyplot as plt\n",
    "from tqdm import tqdm"
   ]
  },
  {
   "cell_type": "markdown",
   "metadata": {},
   "source": [
    "# Defining Functions"
   ]
  },
  {
   "cell_type": "markdown",
   "metadata": {},
   "source": [
    "### Get filenames in directory"
   ]
  },
  {
   "cell_type": "code",
   "execution_count": 112,
   "metadata": {},
   "outputs": [],
   "source": [
    "def abc_filenames(datapath='abcnotation_midi-test', count=False):\n",
    "    songs = [os.path.join(datapath, f) for f in os.listdir(datapath) if os.path.isfile(os.path.join(datapath, f))]\n",
    "    if count==True:\n",
    "        print('Found {} songs in directory'.format(len(songs)))\n",
    "    return songs"
   ]
  },
  {
   "cell_type": "markdown",
   "metadata": {},
   "source": [
    "### ABC file example"
   ]
  },
  {
   "cell_type": "code",
   "execution_count": 113,
   "metadata": {},
   "outputs": [],
   "source": [
    "def abc_example():\n",
    "    songs = abc_filenames(count=True)\n",
    "    with open(songs[1], 'r') as f:\n",
    "        example_song = f.read()\n",
    "    print('\\nExample Song: ')\n",
    "    print(example_song[1:-2])"
   ]
  },
  {
   "cell_type": "markdown",
   "metadata": {},
   "source": [
    "### Join all ABC files in a single list"
   ]
  },
  {
   "cell_type": "code",
   "execution_count": 114,
   "metadata": {},
   "outputs": [],
   "source": [
    "def join_songs(filenames):\n",
    "    songs = []\n",
    "    for filename in filenames:\n",
    "        f = open(filename,'r', encoding='utf8')\n",
    "        text = f.read()\n",
    "        songs.append(text[1:-2])\n",
    "    songs_joined = '\\n\\n'.join(songs)\n",
    "    return songs_joined"
   ]
  },
  {
   "cell_type": "markdown",
   "metadata": {},
   "source": [
    "### Map char2idx and idx2char"
   ]
  },
  {
   "cell_type": "code",
   "execution_count": 115,
   "metadata": {},
   "outputs": [],
   "source": [
    "def abc_mapIndex(songs,show=False):\n",
    "    vocab = sorted(set(songs))\n",
    "    char2idx = {u:i for i,u in enumerate(vocab)}\n",
    "    idx2char = np.array(vocab)\n",
    "    if show==True:\n",
    "        print(\"\\nThere are\", len(vocab), \"unique characters in the dataset\")\n",
    "        print('\\n{')\n",
    "        for char,_ in zip(char2idx, range(20)):\n",
    "            print('  {:4s}: {:3d},'.format(repr(char), char2idx[char]))\n",
    "        print('  ...\\n}')\n",
    "    return [char2idx,idx2char]"
   ]
  },
  {
   "cell_type": "markdown",
   "metadata": {},
   "source": [
    "### Vectorize songs (string --> index)"
   ]
  },
  {
   "cell_type": "code",
   "execution_count": 116,
   "metadata": {},
   "outputs": [],
   "source": [
    "def vectorize_string(string,char2idx,show=False):\n",
    "    vectorized_list = np.array([char2idx[s] for s in string]) \n",
    "    if show==True:\n",
    "        print ('{} ---- characters mapped to int ----> {}'.format(repr(string[:10]), vectorized_list[:10]))\n",
    "        assert isinstance(vectorized_list, np.ndarray), \"returned result should be a numpy array\"\n",
    "    return vectorized_list"
   ]
  },
  {
   "cell_type": "markdown",
   "metadata": {},
   "source": [
    "### Batch functions "
   ]
  },
  {
   "cell_type": "code",
   "execution_count": 117,
   "metadata": {},
   "outputs": [],
   "source": [
    "def test_batch_func_types(func, args):\n",
    "    ret = func(*args)\n",
    "    assert len(ret) == 2, \"[FAIL] get_batch must return two arguments (input and label)\"\n",
    "    assert type(ret[0]) == np.ndarray, \"[FAIL] test_batch_func_types: x is not np.array\"\n",
    "    assert type(ret[1]) == np.ndarray, \"[FAIL] test_batch_func_types: y is not np.array\"\n",
    "    print(\"[PASS] test_batch_func_types\")\n",
    "    return True\n",
    "\n",
    "\n",
    "def test_batch_func_shapes(func, args):\n",
    "    dataset, seq_length, batch_size = args\n",
    "    x, y = func(*args)\n",
    "    correct = (batch_size, seq_length)\n",
    "    assert x.shape == correct, \"[FAIL] test_batch_func_shapes: x {} is not correct shape {}\".format(x.shape, correct)\n",
    "    assert y.shape == correct, \"[FAIL] test_batch_func_shapes: y {} is not correct shape {}\".format(y.shape, correct)\n",
    "    print(\"[PASS] test_batch_func_shapes\")\n",
    "    return True\n",
    "\n",
    "\n",
    "def test_batch_func_next_step(func, args):\n",
    "    x, y = func(*args)\n",
    "    assert (x[:,1:] == y[:,:-1]).all(), \"[FAIL] test_batch_func_next_step: x_{t} must equal y_{t-1} for all t\"\n",
    "    print(\"[PASS] test_batch_func_next_step\")\n",
    "    return True\n",
    "\n",
    "\n",
    "def get_batch(vectorized_songs, seq_length, batch_size):\n",
    "  # the length of the vectorized songs string\n",
    "  n = vectorized_songs.shape[0] - 1\n",
    "  # randomly choose the starting indices for the examples in the training batch\n",
    "  idx = np.random.choice(n-seq_length, batch_size)\n",
    "\n",
    "  # list of input sequences for the training batch\n",
    "  input_batch = [vectorized_songs[i:i+seq_length] for i in idx]\n",
    "  # list of output sequences for the training batch\n",
    "  output_batch = [vectorized_songs[i+1: i+1+seq_length] for i in idx]\n",
    "\n",
    "  # x_batch, y_batch provide the true inputs and targets for network training\n",
    "  x_batch = np.reshape(input_batch, [batch_size, seq_length])\n",
    "  y_batch = np.reshape(output_batch, [batch_size, seq_length])\n",
    "  return x_batch, y_batch"
   ]
  },
  {
   "cell_type": "markdown",
   "metadata": {},
   "source": [
    "### Testing with Batches"
   ]
  },
  {
   "cell_type": "code",
   "execution_count": 118,
   "metadata": {},
   "outputs": [],
   "source": [
    "def letsTest(vectorized_songs, seq_length, batch_size, idx2char):\n",
    "    # Perform some simple tests to make sure your batch function is working properly!\n",
    "    print('\\nPerforming some simple tests to make sure the batch function is working properly') \n",
    "    test_args = (vectorized_songs, seq_length, batch_size)\n",
    "    if not test_batch_func_types(get_batch, test_args) or \\\n",
    "       not test_batch_func_shapes(get_batch, test_args) or \\\n",
    "       not test_batch_func_next_step(get_batch, test_args): \n",
    "        print(\"======\\n[FAIL] could not pass tests\")\n",
    "    else: \n",
    "        print(\"======\\n[PASS] passed all tests!\")\n",
    "\n",
    "    # Example of how it works\n",
    "    print('\\nExample of how it works:\\n')\n",
    "    x_batch, y_batch = get_batch(vectorized_songs, seq_length, batch_size)\n",
    "\n",
    "    for i, (input_idx, target_idx) in enumerate(zip(np.squeeze(x_batch), np.squeeze(y_batch))):\n",
    "        print(\"Step {:3d}\".format(i))\n",
    "        print(\"  input: {} ({:s})\".format(input_idx, repr(idx2char[input_idx])))\n",
    "        print(\"  expected output: {} ({:s})\".format(target_idx, repr(idx2char[target_idx])))"
   ]
  },
  {
   "cell_type": "markdown",
   "metadata": {},
   "source": [
    "### Building RNN Model"
   ]
  },
  {
   "cell_type": "code",
   "execution_count": 119,
   "metadata": {},
   "outputs": [],
   "source": [
    "def LSTM(rnn_units): \n",
    "  return tf.keras.layers.LSTM(\n",
    "    rnn_units, \n",
    "    return_sequences=True, \n",
    "    recurrent_initializer='glorot_uniform',\n",
    "    recurrent_activation='sigmoid',\n",
    "    stateful=True,\n",
    "  )\n",
    "\n",
    "\n",
    "def build_model(vocab_size, embedding_dim, rnn_units, batch_size):\n",
    "  model = tf.keras.Sequential([\n",
    "    # Layer 1: Embedding layer to transform indices into dense vectors \n",
    "    #          of a fixed embedding size\n",
    "    tf.keras.layers.Embedding(vocab_size, embedding_dim, batch_input_shape=[batch_size, None]),\n",
    "\n",
    "    # Layer 2: LSTM with `rnn_units` number of units. \n",
    "    LSTM(rnn_units),\n",
    "\n",
    "    # Layer 3: Dense (fully-connected) layer that transforms the LSTM output\n",
    "    #          into the vocabulary size. \n",
    "    tf.keras.layers.Dense(units=vocab_size)\n",
    "  ])\n",
    "\n",
    "  return model\n",
    "\n",
    "\n",
    "# define the loss function to compute and return the loss between the true labels and predictions (logits). Set the argument from_logits=True.\n",
    "#from numba import jit, cuda\n",
    "#@jit()\n",
    "def compute_loss(labels, logits):\n",
    "  loss = tf.keras.losses.sparse_categorical_crossentropy(labels, logits, from_logits=True)\n",
    "  return loss  \n",
    "\n",
    "\n",
    "# print-out the model's progress through training\n",
    "class PeriodicPlotter:\n",
    "    def __init__(self, sec, xlabel='', ylabel='', scale=None):\n",
    "        self.xlabel = xlabel\n",
    "        self.ylabel = ylabel\n",
    "        self.sec = sec\n",
    "        self.scale = scale\n",
    "        self.tic = time.time()\n",
    "\n",
    "    def plot(self, data):\n",
    "        if time.time() - self.tic > self.sec:\n",
    "            plt.cla()\n",
    "\n",
    "        if self.scale is None:\n",
    "            plt.plot(data)\n",
    "        elif self.scale == 'semilogx':\n",
    "            plt.semilogx(data)\n",
    "        elif self.scale == 'semilogy':\n",
    "            plt.semilogy(data)\n",
    "        elif self.scale == 'loglog':\n",
    "            plt.loglog(data)\n",
    "        else:\n",
    "            raise ValueError(\"unrecognized parameter scale {}\".format(self.scale))\n",
    "\n",
    "        plt.xlabel(self.xlabel); plt.ylabel(self.ylabel)\n",
    "        ipythondisplay.clear_output(wait=True)\n",
    "        ipythondisplay.display(plt.gcf())\n",
    "\n",
    "        self.tic = time.time()\n"
   ]
  },
  {
   "cell_type": "markdown",
   "metadata": {},
   "source": [
    "### Training Model"
   ]
  },
  {
   "cell_type": "code",
   "execution_count": 120,
   "metadata": {},
   "outputs": [],
   "source": [
    "def train_step(x, y, model, optimizer): \n",
    "    # Use tf.GradientTape()\n",
    "    with tf.GradientTape() as tape:\n",
    "        # feed the current input into the model and generate predictions\n",
    "        y_hat = model(x)\n",
    "        # compute the loss!\n",
    "        loss = compute_loss(y, y_hat)\n",
    "\n",
    "    # function call for gradient computation. \n",
    "    grads = tape.gradient(loss, model.trainable_variables)\n",
    "  \n",
    "    # Apply the gradients to the optimizer so it can update the model accordingly\n",
    "    optimizer.apply_gradients(zip(grads, model.trainable_variables))\n",
    "    return loss"
   ]
  },
  {
   "cell_type": "markdown",
   "metadata": {},
   "source": [
    "### Generating Text (Songs)"
   ]
  },
  {
   "cell_type": "code",
   "execution_count": 121,
   "metadata": {},
   "outputs": [],
   "source": [
    "def generate_text(model, start_string, generation_length, char2idx, idx2char):\n",
    "    # Evaluation step (generating ABC text using the learned RNN model)\n",
    "\n",
    "    # convert the start string to numbers (vectorize)\n",
    "    input_eval = [char2idx[s] for s in start_string]\n",
    "    input_eval = tf.expand_dims(input_eval, 0)\n",
    "\n",
    "    # Empty string to store our results\n",
    "    text_generated = []\n",
    "\n",
    "    # Here batch size == 1\n",
    "    model.reset_states()\n",
    "    tqdm._instances.clear()\n",
    "\n",
    "    for i in tqdm(range(generation_length)):\n",
    "        predictions = model(input_eval)\n",
    "        # Remove the batch dimension\n",
    "        predictions = tf.squeeze(predictions, 0)\n",
    "        # multinomial distribution to sample\n",
    "        predicted_id = tf.random.categorical(predictions, num_samples=1)[-1,0].numpy()\n",
    "        # Pass the prediction along with the previous hidden state\n",
    "        #   as the next inputs to the model\n",
    "        input_eval = tf.expand_dims([predicted_id], 0)\n",
    "        # add the predicted character to the generated text!\n",
    "        # Hint: consider what format the prediction is in vs. the output\n",
    "        text_generated.append(idx2char[predicted_id])\n",
    "    \n",
    "    return (start_string + ''.join(text_generated))"
   ]
  },
  {
   "cell_type": "markdown",
   "metadata": {},
   "source": [
    "# Getting Prepared"
   ]
  },
  {
   "cell_type": "markdown",
   "metadata": {},
   "source": [
    "### Getting Songs and Example"
   ]
  },
  {
   "cell_type": "code",
   "execution_count": 122,
   "metadata": {},
   "outputs": [
    {
     "name": "stdout",
     "output_type": "stream",
     "text": [
      "Found 1126 songs in directory\n",
      "\n",
      "Example Song: \n",
      "X:1\n",
      "T:001 - AntÃƒÂ­fona\n",
      "T:Letra: Henry Maxwell Wright (1849-1931)\n",
      "T:MÃƒÂºsica: William Henry Monk (1823-1889)\n",
      "L:1/4\n",
      "M:4/4\n",
      "K:Bmaj\n",
      "W:\n",
      "W:\n",
      "W:1. A Ti, ÃƒÂ³ Deus, fiel e bom Senhor.\n",
      "W:Eterno Pai, Supremo Benfeitor,\n",
      "W:NÃƒÂ³s, os teus servos, vimos dar louvor,\n",
      "W:Aleluia! Aleluia!\n",
      "W:\n",
      "W:2. A Ti, Deus Filho, Salvador Jesus,\n",
      "W:Da graÃƒÂ§a a fonte, da verdade a luz,\n",
      "W:Por teu amor, medido pela cruz,\n",
      "W:Aleluia! Aleluia!\n",
      "W:\n",
      "W:\n",
      "W:\n",
      "W:3. A Ti, ÃƒÂ³ Deus, real Consolador,\n",
      "W:Divino fogo, santificador,\n",
      "W:Que nos anima e nos acende o amor,\n",
      "W:Aleluia! Aleluia!\n",
      "W:\n",
      "W:4. A Ti, Deus trino, Poderoso Deus,\n",
      "W:Que estÃƒÂ¡s presente sempre junto aos teus,\n",
      "W:A ministrar as bÃƒÂªnÃƒÂ§ÃƒÂ£os lÃƒÂ¡ dos cÃƒÂ©us,\n",
      "W:Aleluia! Aleluia!\n",
      "W:\n",
      "W:\n",
      "V:1 clef=treble\n",
      "\"B\"D2 \"F#\"D C | \"G#m\"B,2 \"D#m\"F2 | \"E\"G F F \"F#\"E | \"B\"D4 | D2 E F | \"E\"G2 \"B\"F2 | \"C#m7\"E C D \"C#7\"^E | \"F#\"F4 | \"B\"D2 \"F#\"D C | \"G#m\"B,2 \"D#m\"F2 | \"E\"F =E \"G#7\"E D | \"C#m\"C4 | %12\n",
      "w:1.~A Ti, ÃƒÂ³ Deus, fi-el e bom Se-nhor. E-ter-no Pai, Su-pre-mo Ben-fei-tor, NÃƒÂ³s, os teus ser-vos, vi-mos dar lou-vor,\n",
      "w:2.A Ti, Deus Fi-lho, Sal-va-dor Je-sus, Da gra-ÃƒÂ§aa fon-te, da ver-da-dea luz, Por teu a-mor, me-di-do pe-la cruz,\n",
      "w:3.A Ti, ÃƒÂ³ Deus, re-al Con-so-la-dor, Di-vi-no fo-go, san-ti-fi-ca-dor, Que nos a-ni-mae nos a-cen-deoa-mor,\n",
      "w:4.A Ti, Deus tri-no, Po-de-ro-so Deus, Quees-tÃƒÂ¡s pre-sen-te sem-pre jun-toaos teus, A mi-nis-trar as bÃƒÂªn-ÃƒÂ§ÃƒÂ£os lÃƒÂ¡ dos cÃƒÂ©us,\n",
      "\"F#7\"C2 D E | \"B\"D C \"E\"B, E | \"B/F#\"D2 \"F#7\"C2 | \"B\"B,4 |] %16\n",
      "w:A_le-lui-a! A-le-lui_a!\n",
      "w:A_le-lui-a! A-le-lui_a!\n",
      "w:A_le-lui-a! A-le-lui_a!\n",
      "w:A_le-lui-a! A-le-lui_a!\n"
     ]
    }
   ],
   "source": [
    "datapath = \"abcnotation_midi-test\"\n",
    "filenames = abc_filenames(datapath)\n",
    "abc_example()"
   ]
  },
  {
   "cell_type": "markdown",
   "metadata": {},
   "source": [
    "### Joining all ABC songs in a single list and mapping index"
   ]
  },
  {
   "cell_type": "code",
   "execution_count": 123,
   "metadata": {},
   "outputs": [
    {
     "name": "stdout",
     "output_type": "stream",
     "text": [
      "\n",
      "There are 130 unique characters in the dataset\n",
      "\n",
      "{\n",
      "  '\\t':   0,\n",
      "  '\\n':   1,\n",
      "  ' ' :   2,\n",
      "  '!' :   3,\n",
      "  '\"' :   4,\n",
      "  '#' :   5,\n",
      "  '$' :   6,\n",
      "  '%' :   7,\n",
      "  '&' :   8,\n",
      "  \"'\" :   9,\n",
      "  '(' :  10,\n",
      "  ')' :  11,\n",
      "  '*' :  12,\n",
      "  '+' :  13,\n",
      "  ',' :  14,\n",
      "  '-' :  15,\n",
      "  '.' :  16,\n",
      "  '/' :  17,\n",
      "  '0' :  18,\n",
      "  '1' :  19,\n",
      "  ...\n",
      "}\n"
     ]
    }
   ],
   "source": [
    "songs = join_songs(filenames)\n",
    "char2idx, idx2char = abc_mapIndex(songs,show=True)"
   ]
  },
  {
   "cell_type": "markdown",
   "metadata": {},
   "source": [
    "### Vectorize songs and check the before (string) and after (index)"
   ]
  },
  {
   "cell_type": "code",
   "execution_count": 124,
   "metadata": {},
   "outputs": [
    {
     "name": "stdout",
     "output_type": "stream",
     "text": [
      "'X:0\\nT:00. ' ---- characters mapped to int ----> [58 28 18  1 54 28 18 18 16  2]\n",
      "[58 28 18 ... 71 79 16]\n"
     ]
    }
   ],
   "source": [
    "vectorized_songs = vectorize_string(string=songs, char2idx=char2idx, show=True)\n",
    "print(vectorized_songs)"
   ]
  },
  {
   "cell_type": "code",
   "execution_count": 125,
   "metadata": {},
   "outputs": [
    {
     "name": "stdout",
     "output_type": "stream",
     "text": [
      "\n",
      "Performing some simple tests to make sure the batch function is working properly\n",
      "[PASS] test_batch_func_types\n",
      "[PASS] test_batch_func_shapes\n",
      "[PASS] test_batch_func_next_step\n",
      "======\n",
      "[PASS] passed all tests!\n",
      "\n",
      "Example of how it works:\n",
      "\n",
      "Step   0\n",
      "  input: 28 (':')\n",
      "  expected output: 51 ('Q')\n",
      "Step   1\n",
      "  input: 51 ('Q')\n",
      "  expected output: 87 ('u')\n",
      "Step   2\n",
      "  input: 87 ('u')\n",
      "  expected output: 71 ('e')\n",
      "Step   3\n",
      "  input: 71 ('e')\n",
      "  expected output: 2 (' ')\n",
      "Step   4\n",
      "  input: 2 (' ')\n",
      "  expected output: 73 ('g')\n"
     ]
    }
   ],
   "source": [
    "letsTest(vectorized_songs=vectorized_songs, seq_length=5, batch_size=1, idx2char=idx2char)"
   ]
  },
  {
   "cell_type": "markdown",
   "metadata": {},
   "source": [
    "### Initial Model (default hyperparameters)"
   ]
  },
  {
   "cell_type": "code",
   "execution_count": 126,
   "metadata": {},
   "outputs": [
    {
     "name": "stdout",
     "output_type": "stream",
     "text": [
      "Model: \"sequential_8\"\n",
      "_________________________________________________________________\n",
      "Layer (type)                 Output Shape              Param #   \n",
      "=================================================================\n",
      "embedding_8 (Embedding)      (32, None, 256)           33280     \n",
      "_________________________________________________________________\n",
      "lstm_8 (LSTM)                (32, None, 1024)          5246976   \n",
      "_________________________________________________________________\n",
      "dense_8 (Dense)              (32, None, 130)           133250    \n",
      "=================================================================\n",
      "Total params: 5,413,506\n",
      "Trainable params: 5,413,506\n",
      "Non-trainable params: 0\n",
      "_________________________________________________________________\n",
      "None\n"
     ]
    }
   ],
   "source": [
    "vocab = sorted(set(songs))\n",
    "model = build_model(len(vocab), embedding_dim=256, rnn_units=1024, batch_size=32)\n",
    "print(model.summary())"
   ]
  },
  {
   "cell_type": "code",
   "execution_count": 127,
   "metadata": {},
   "outputs": [
    {
     "name": "stdout",
     "output_type": "stream",
     "text": [
      "Input shape:       (32, 100)  # (batch_size, sequence_length)\n",
      "Prediction shape:  (32, 100, 130) # (batch_size, sequence_length, vocab_size)\n"
     ]
    }
   ],
   "source": [
    "# testing initial model\n",
    "x, y = get_batch(vectorized_songs, seq_length=100, batch_size=32)\n",
    "pred = model(x)\n",
    "print(\"Input shape:      \", x.shape, \" # (batch_size, sequence_length)\")\n",
    "print(\"Prediction shape: \", pred.shape, \"# (batch_size, sequence_length, vocab_size)\")"
   ]
  },
  {
   "cell_type": "code",
   "execution_count": 128,
   "metadata": {},
   "outputs": [
    {
     "name": "stdout",
     "output_type": "stream",
     "text": [
      "[ 18  86  72  18  33  76 110  59  45 107  16  54  43   1 106  73 112  93\n",
      "  61  38 117  42 121  80 112  41  37   1  26  94  79  67  42  32   2  12\n",
      "   7 122 115  10   8  61  80  29   3   2  12  49  88  76  74  43  29  93\n",
      "  80 129  60  52  34   3  20 105 120  51  10 128  72  54  98  75  73  59\n",
      "  19  60  38  45  87  26  26  93   9   9 108   8  47 104 125  38  41  51\n",
      " 116  74  53  93  67   6  86 113  38  41]\n",
      "\n",
      "Input: \n",
      " ':|\\n|:A,,C,C,|C,2G,,|C,>B,,A,,|G,,3|C,C,C,|A,,2C,|D,A,,2|D,2z:|\\nW:\\nW:\\nW:  From Musica Viva - http://w'\n",
      "\n",
      "Next Char Predictions: \n",
      " \"0tf0?jÃYK¶.TI\\nµgà{[DèHûnàGC\\n8|maH> *%–ä(&[n;! *OvjhI;{n™ZR@!2´öQ(€fT¡igY1ZDKu88{''º&M³”DGQçhS{a$táDG\"\n"
     ]
    }
   ],
   "source": [
    "# prediction for initial model (untrained)\n",
    "sampled_indices = tf.random.categorical(pred[0], num_samples=1)\n",
    "sampled_indices = tf.squeeze(sampled_indices,axis=-1).numpy()\n",
    "print(sampled_indices)\n",
    "print(\"\\nInput: \\n\", repr(\"\".join(idx2char[x[0]])))\n",
    "print()\n",
    "print(\"Next Char Predictions: \\n\", repr(\"\".join(idx2char[sampled_indices])))"
   ]
  },
  {
   "cell_type": "code",
   "execution_count": 129,
   "metadata": {},
   "outputs": [
    {
     "name": "stdout",
     "output_type": "stream",
     "text": [
      "Prediction shape:  (32, 100, 130)  # (batch_size, sequence_length, vocab_size)\n",
      "scalar_loss:       4.8678937\n"
     ]
    },
    {
     "name": "stderr",
     "output_type": "stream",
     "text": [
      "C:\\Users\\nmhahn\\AppData\\Local\\Temp\\ipykernel_13504\\308551449.py:30: NumbaWarning: \u001b[1m\n",
      "Compilation is falling back to object mode WITH looplifting enabled because Function \"compute_loss\" failed type inference due to: \u001b[1m\u001b[1mUnknown attribute 'sparse_categorical_crossentropy' of type Module(<module 'keras.api._v2.keras.losses' from 'C:\\\\Users\\\\nmhahn\\\\anaconda3\\\\envs\\\\tf-gpu\\\\lib\\\\site-packages\\\\keras\\\\api\\\\_v2\\\\keras\\\\losses\\\\__init__.py'>)\n",
      "\u001b[1m\n",
      "File \"C:\\Users\\nmhahn\\AppData\\Local\\Temp\\ipykernel_13504\\308551449.py\", line 32:\u001b[0m\n",
      "\u001b[1mdef compute_loss(labels, logits):\n",
      "\u001b[1m  loss = tf.keras.losses.sparse_categorical_crossentropy(labels, logits, from_logits=True)\n",
      "\u001b[0m  \u001b[1m^\u001b[0m\u001b[0m\n",
      "\u001b[0m\n",
      "\u001b[0m\u001b[1mDuring: typing of get attribute at C:\\Users\\nmhahn\\AppData\\Local\\Temp\\ipykernel_13504\\308551449.py (32)\u001b[0m\n",
      "\u001b[1m\n",
      "File \"C:\\Users\\nmhahn\\AppData\\Local\\Temp\\ipykernel_13504\\308551449.py\", line 32:\u001b[0m\n",
      "\u001b[1mdef compute_loss(labels, logits):\n",
      "\u001b[1m  loss = tf.keras.losses.sparse_categorical_crossentropy(labels, logits, from_logits=True)\n",
      "\u001b[0m  \u001b[1m^\u001b[0m\u001b[0m\n",
      "\u001b[0m\n",
      "  @jit()\n",
      "C:\\Users\\nmhahn\\anaconda3\\envs\\tf-gpu\\lib\\site-packages\\numba\\core\\object_mode_passes.py:151: NumbaWarning: \u001b[1mFunction \"compute_loss\" was compiled in object mode without forceobj=True.\n",
      "\u001b[1m\n",
      "File \"C:\\Users\\nmhahn\\AppData\\Local\\Temp\\ipykernel_13504\\308551449.py\", line 31:\u001b[0m\n",
      "\u001b[1m@jit()\n",
      "\u001b[1mdef compute_loss(labels, logits):\n",
      "\u001b[0m\u001b[1m^\u001b[0m\u001b[0m\n",
      "\u001b[0m\n",
      "  warnings.warn(errors.NumbaWarning(warn_msg,\n",
      "C:\\Users\\nmhahn\\anaconda3\\envs\\tf-gpu\\lib\\site-packages\\numba\\core\\object_mode_passes.py:161: NumbaDeprecationWarning: \u001b[1m\n",
      "Fall-back from the nopython compilation path to the object mode compilation path has been detected, this is deprecated behaviour.\n",
      "\n",
      "For more information visit https://numba.pydata.org/numba-doc/latest/reference/deprecation.html#deprecation-of-object-mode-fall-back-behaviour-when-using-jit\n",
      "\u001b[1m\n",
      "File \"C:\\Users\\nmhahn\\AppData\\Local\\Temp\\ipykernel_13504\\308551449.py\", line 31:\u001b[0m\n",
      "\u001b[1m@jit()\n",
      "\u001b[1mdef compute_loss(labels, logits):\n",
      "\u001b[0m\u001b[1m^\u001b[0m\u001b[0m\n",
      "\u001b[0m\n",
      "  warnings.warn(errors.NumbaDeprecationWarning(msg,\n"
     ]
    }
   ],
   "source": [
    "example_batch_loss = compute_loss(y, pred)\n",
    "print(\"Prediction shape: \", pred.shape, \" # (batch_size, sequence_length, vocab_size)\") \n",
    "print(\"scalar_loss:      \", example_batch_loss.numpy().mean())"
   ]
  },
  {
   "cell_type": "markdown",
   "metadata": {},
   "source": [
    "### Define Parameters"
   ]
  },
  {
   "cell_type": "code",
   "execution_count": 130,
   "metadata": {},
   "outputs": [],
   "source": [
    "# Optimization parameters:\n",
    "num_training_iterations = 2000  # Increase this to train longer\n",
    "batch_size = 4  # Experiment between 1 and 64\n",
    "seq_length = 100  # Experiment between 50 and 500\n",
    "learning_rate = 5e-3  # Experiment between 1e-5 and 1e-1"
   ]
  },
  {
   "cell_type": "code",
   "execution_count": 131,
   "metadata": {},
   "outputs": [],
   "source": [
    "# Model parameters: \n",
    "vocab_size = len(vocab)\n",
    "embedding_dim = 256 \n",
    "rnn_units = 1024  # Experiment between 1 and 2048"
   ]
  },
  {
   "cell_type": "markdown",
   "metadata": {},
   "source": [
    "### Checkpoint (save weights)"
   ]
  },
  {
   "cell_type": "code",
   "execution_count": 132,
   "metadata": {},
   "outputs": [],
   "source": [
    "checkpoint_dir = './training_checkpoints' # location\n",
    "checkpoint_prefix = os.path.join(checkpoint_dir, \"my_ckpt\")"
   ]
  },
  {
   "cell_type": "markdown",
   "metadata": {},
   "source": [
    "### Initiate model with parameters specified"
   ]
  },
  {
   "cell_type": "code",
   "execution_count": 133,
   "metadata": {},
   "outputs": [],
   "source": [
    "# instantiate a new model for training using the `build_model` function and the hyperparameters create\n",
    "model = build_model(vocab_size, embedding_dim, rnn_units, batch_size)\n",
    "\n",
    "# instantiate an optimizer with its learning rate.\n",
    "# Checkout the tensorflow website for a list of supported optimizers. https://www.tensorflow.org/api_docs/python/tf/keras/optimizers/\n",
    "# Try using the Adam optimizer to start\n",
    "optimizer = tf.keras.optimizers.Adam(learning_rate)"
   ]
  },
  {
   "cell_type": "markdown",
   "metadata": {},
   "source": [
    "# Begin Training"
   ]
  },
  {
   "cell_type": "code",
   "execution_count": 134,
   "metadata": {},
   "outputs": [
    {
     "data": {
      "image/png": "[encoded data removed]",
      "text/plain": [
       "<Figure size 432x288 with 1 Axes>"
      ]
     },
     "metadata": {},
     "output_type": "display_data"
    },
    {
     "name": "stderr",
     "output_type": "stream",
     "text": [
      "100%|██████████| 500/500 [02:33<00:00,  3.26it/s]\n"
     ]
    },
    {
     "data": {
      "image/png": "[encoded data removed]",
      "text/plain": [
       "<Figure size 432x288 with 1 Axes>"
      ]
     },
     "metadata": {
      "needs_background": "light"
     },
     "output_type": "display_data"
    }
   ],
   "source": [
    "history = []\n",
    "plotter = PeriodicPlotter(sec=2, xlabel='Iterations', ylabel='Loss')\n",
    "if hasattr(tqdm, '_instances'): tqdm._instances.clear() # clear if it exists\n",
    "\n",
    "for iter in tqdm(range(500)):\n",
    "\n",
    "    # Grab a batch and propagate it through the network\n",
    "    x_batch, y_batch = get_batch(vectorized_songs, seq_length, batch_size)\n",
    "    loss = train_step(x_batch, y_batch, model, optimizer)\n",
    "\n",
    "    # Update the progress bar\n",
    "    history.append(loss.numpy().mean())\n",
    "    plotter.plot(history)\n",
    "\n",
    "    # Update the model with the changed weights!\n",
    "    if iter % 100 == 0:     \n",
    "        model.save_weights(checkpoint_prefix)\n",
    "    \n",
    "# Save the trained model and the weights\n",
    "model.save_weights(checkpoint_prefix)"
   ]
  }
 ],
 "metadata": {
  "interpreter": {
   "hash": "fbb9ed1a5b643bde94290ea73c28507ad24bac0af27794593627ca927a0f8448"
  },
  "kernelspec": {
   "display_name": "Python 3.9.7 ('tf-gpu')",
   "language": "python",
   "name": "python3"
  },
  "language_info": {
   "codemirror_mode": {
    "name": "ipython",
    "version": 3
   },
   "file_extension": ".py",
   "mimetype": "text/x-python",
   "name": "python",
   "nbconvert_exporter": "python",
   "pygments_lexer": "ipython3",
   "version": "3.9.7"
  },
  "orig_nbformat": 4
 },
 "nbformat": 4,
 "nbformat_minor": 2
}
