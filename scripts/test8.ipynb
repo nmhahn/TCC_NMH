{
 "cells": [
  {
   "cell_type": "markdown",
   "metadata": {},
   "source": [
    "# Código Base (Inspiração)\n",
    "\n",
    "* link: https://goodboychan.github.io/python/tensorflow/mit/2021/02/14/music-generation.html\n",
    "* link2: https://machinelearningmastery.com/text-generation-lstm-recurrent-neural-networks-python-keras/"
   ]
  },
  {
   "cell_type": "markdown",
   "metadata": {},
   "source": [
    "## Bibliotecas"
   ]
  },
  {
   "cell_type": "code",
   "execution_count": 1,
   "metadata": {},
   "outputs": [],
   "source": [
    "# Ignore  the warnings\n",
    "import warnings\n",
    "warnings.filterwarnings('always')\n",
    "warnings.filterwarnings('ignore')\n",
    "\n",
    "# libraries\n",
    "import tensorflow as tf \n",
    "import numpy as np\n",
    "import os\n",
    "import time\n",
    "import regex as re\n",
    "from IPython import display as ipythondisplay\n",
    "from tqdm import tqdm\n",
    "import matplotlib.pyplot as plt\n",
    "from music21 import converter\n",
    "import collections\n",
    "import random\n",
    "from sklearn.model_selection import train_test_split\n",
    "\n",
    "# fixa para executar na CPU (determinismo)\n",
    "devices = tf.config.list_physical_devices()\n",
    "tf.config.experimental.set_visible_devices(devices[0]) \n",
    "\n",
    "# semente aleatória\n",
    "global_seed=301831\n",
    "np.random.seed(global_seed)\n",
    "random.seed(global_seed)\n",
    "tf.random.set_seed(global_seed)"
   ]
  },
  {
   "cell_type": "markdown",
   "metadata": {},
   "source": [
    "## Dados"
   ]
  },
  {
   "cell_type": "code",
   "execution_count": 2,
   "metadata": {},
   "outputs": [],
   "source": [
    "# def abc_filenames(datapath='abcnotation_midi-test', count=False):\n",
    "#     songs = [os.path.join(datapath, f) for f in os.listdir(datapath) if os.path.isfile(os.path.join(datapath, f))]\n",
    "#     if count==True:\n",
    "#         print('Found {} songs in directory'.format(len(songs)))\n",
    "#     return songs\n",
    "\n",
    "# def abc_example():\n",
    "#     songs = abc_filenames(count=True)\n",
    "#     with open(songs[1], 'r') as f:\n",
    "#         example_song = f.read()\n",
    "#     print('\\nExample Song: ')\n",
    "#     print(example_song[1:-2])\n",
    "\n",
    "# def join_songs(filenames):\n",
    "#     songs = []\n",
    "#     for filename in filenames:\n",
    "#         f = open(filename,'r', encoding='utf8')\n",
    "#         text = f.read()\n",
    "#         songs.append(text[1:-2])\n",
    "#     songs_joined = '\\n\\n'.join(songs)\n",
    "#     return songs_joined  \n",
    "\n",
    "# datapath = \"./data/abcnotation\"\n",
    "# filenames = abc_filenames(datapath)\n",
    "# songs = []\n",
    "# for filename in filenames[0:5000]: \n",
    "#     try:\n",
    "#             f = open(filename,'r', encoding='utf8')\n",
    "#             text = f.read()\n",
    "#             songs.append(text)\n",
    "#             f.close()\n",
    "#     except:\n",
    "#         print(\"Erro em:\", filename)\n",
    "#         pass\n",
    "    \n",
    "# # print(len(songs))\n",
    "# # print(len(filenames))\n",
    "\n",
    "# example_song = songs[1]\n",
    "# print(\"\\nExample song: \")\n",
    "# print(example_song)"
   ]
  },
  {
   "cell_type": "code",
   "execution_count": 2,
   "metadata": {},
   "outputs": [],
   "source": [
    "def extract_song_snippet(text):\n",
    "    pattern = '(^|\\n\\n)(.*?)\\n\\n'\n",
    "    search_results = re.findall(pattern, text, overlapped=True, flags=re.DOTALL)\n",
    "    songs = [song[1] for song in search_results]\n",
    "    # print(\"Found {} songs in text\".format(len(songs)))\n",
    "    return songs\n",
    "\n",
    "cwd = os.getcwd()\n",
    "songs = []\n",
    "\n",
    "with open(os.path.join(cwd, 'data', 'irish', 'irish.abc'), 'r') as f:\n",
    "    text = f.read()\n",
    "    songs = extract_song_snippet(text)\n",
    "\n",
    "# # Exemplo de musica\n",
    "# example_song = songs[0]\n",
    "# print(\"\\nExample song: \")\n",
    "# print(example_song)"
   ]
  },
  {
   "cell_type": "code",
   "execution_count": 3,
   "metadata": {},
   "outputs": [],
   "source": [
    "def clean_abc(abc_song, show_rslt=False):\n",
    "    # original .abc\n",
    "    text = abc_song\n",
    "    new_text = text\n",
    "\n",
    "    # # remove index field\n",
    "    # new_text = re.sub('(X:).*\\n', '', new_text)\n",
    "\n",
    "    # remove title field\n",
    "    new_text = re.sub('(T:).*\\n', '', new_text)\n",
    "\n",
    "    # remove composer field\n",
    "    new_text = re.sub('(C:).*\\n', '', new_text)\n",
    "\n",
    "    # remove source field\n",
    "    new_text = re.sub('(S:).*\\n', '', new_text)\n",
    "\n",
    "    # remove geographical origin field\n",
    "    new_text = re.sub('(O:).*\\n', '', new_text)\n",
    "\n",
    "    # remove textual notes field\n",
    "    new_text = re.sub('(N:).*\\n', '', new_text)\n",
    "\n",
    "    # remove identity of transcriber/source of transcription field\n",
    "    new_text = re.sub('(Z:).*\\n', '', new_text)\n",
    "\n",
    "    # remove lyrics\n",
    "    new_text = re.sub('([wW]:).*\\n','',new_text)\n",
    "\n",
    "    # remove comments\n",
    "    new_text = re.sub('(%).*\\n','',new_text)\n",
    "\n",
    "    if show_rslt==True:\n",
    "        # print results\n",
    "        print('original: '+str(len(text))+' characters'+'\\n' + text)\n",
    "        print()\n",
    "        print('after modification: '+str(len(new_text))+' characters'+'\\n' + new_text)\n",
    "\n",
    "    return new_text\n",
    "\n",
    "# example_song2 = clean_abc(example_song)\n",
    "# print(example_song2)"
   ]
  },
  {
   "cell_type": "code",
   "execution_count": 4,
   "metadata": {},
   "outputs": [
    {
     "name": "stdout",
     "output_type": "stream",
     "text": [
      "Total Characters: 171611\n",
      "Total Vocab: 64\n"
     ]
    }
   ],
   "source": [
    "def extract_vocab(text):\n",
    "    vocab = sorted(set(text))\n",
    "    return {u:i for i, u in enumerate(vocab)}\n",
    "\n",
    "for i in range(len(songs)):\n",
    "    songs[i] = clean_abc(songs[i])\n",
    "\n",
    "songs_joined = \"\\n\\n\".join(songs) \n",
    "\n",
    "# caracteres únicos disponíveis\n",
    "vocab = extract_vocab(songs_joined)\n",
    "# print(\"There are\", len(vocab), \"unique characters in the dataset\")\n",
    "\n",
    "n_chars = len(songs_joined)\n",
    "n_vocab = len(vocab)\n",
    "print('Total Characters:', n_chars)\n",
    "print('Total Vocab:', n_vocab)"
   ]
  },
  {
   "cell_type": "markdown",
   "metadata": {},
   "source": [
    "## Process the dataset for the learning task"
   ]
  },
  {
   "cell_type": "code",
   "execution_count": 5,
   "metadata": {},
   "outputs": [],
   "source": [
    "# Create a mapping from character to unique index\n",
    "def char2idx(string, vocab=None):\n",
    "    if vocab==None:\n",
    "        vocab = extract_vocab(string)\n",
    "    vectorized_list = np.array([vocab[s] for s in string])\n",
    "    return vectorized_list\n",
    "\n",
    "# Create a mapping from indices to characters\n",
    "def idx2char(idx, vocab):\n",
    "    keys = list(vocab.keys())\n",
    "    string = ''\n",
    "    if isinstance(idx, collections.Iterable):\n",
    "        for i in idx:\n",
    "            string += keys[i]\n",
    "    else:\n",
    "        string += keys[idx]\n",
    "    return string"
   ]
  },
  {
   "cell_type": "code",
   "execution_count": 11,
   "metadata": {},
   "outputs": [
    {
     "name": "stdout",
     "output_type": "stream",
     "text": [
      "Total Patterns: 118\n"
     ]
    }
   ],
   "source": [
    "seq_length = 100\n",
    "dataX = []\n",
    "dataY = []\n",
    "\n",
    "for i in range(0, n_chars - seq_length, 1):\n",
    "  seq_in = songs_joined[i:i + seq_length]\n",
    "  seq_out = songs_joined[i + seq_length]\n",
    "  dataX.append(char2idx(seq_in, vocab))\n",
    "  dataY.append(char2idx(seq_out, vocab))\n",
    "\n",
    "n_patterns = len(dataX)\n",
    "print('Total Patterns:', n_patterns)\n",
    "\n",
    "dataX\n",
    "\n",
    "# reshape X to be [samples, time steps, features]\n",
    "X = np.reshape(dataX, (n_patterns, seq_length, 1))\n",
    "# normalize\n",
    "X = X / float(n_vocab)\n",
    "# one hot encode the output variable\n",
    "y = tf.keras.utils.to_categorical(dataY)\n",
    "\n",
    "# # lotes de cada musica, em strings vetorizadas, com tamanho específicos \n",
    "# def get_batch(vectorized_song, seq_length, batch_size):\n",
    "#   n = len(vectorized_song) - 1\n",
    "\n",
    "#   idx = np.random.choice(n-seq_length, batch_size)\n",
    "\n",
    "#   input_batch = [vectorized_song[i:i+seq_length] for i in idx]\n",
    "#   output_batch = [vectorized_song[i+1: i+1+seq_length] for i in idx]\n",
    "\n",
    "#   x_batch = np.reshape(input_batch, [batch_size, seq_length])\n",
    "#   y_batch = np.reshape(output_batch, [batch_size, seq_length])\n",
    "\n",
    "#   return x_batch, y_batch\n",
    "\n",
    "# # separa em treino e teste\n",
    "# songs_train, songs_test = train_test_split(songs, train_size = 0.80)"
   ]
  },
  {
   "cell_type": "markdown",
   "metadata": {},
   "source": [
    "## The RNN LSTM model"
   ]
  },
  {
   "cell_type": "code",
   "execution_count": 24,
   "metadata": {},
   "outputs": [],
   "source": [
    "# def build_model(vocab_size, embedding_dim, rnn_units, batch_size):\n",
    "#   model = tf.keras.Sequential([\n",
    "#     # Layer 1: Embedding layer to transform indices into dense vectors \n",
    "#     #   of a fixed embedding size\n",
    "#     tf.keras.layers.Embedding(vocab_size, embedding_dim, batch_input_shape=[batch_size, None]),\n",
    "\n",
    "#     # Layer 2: LSTM with `rnn_units` number of units. \n",
    "#     tf.keras.layers.LSTM(\n",
    "#     units=rnn_units, \n",
    "#     activation='tanh',\n",
    "#     recurrent_activation='sigmoid',\n",
    "#     recurrent_initializer='glorot_uniform',\n",
    "#     use_bias=True,\n",
    "#     bias_initializer='zeros',\n",
    "#     return_sequences=True, \n",
    "#     stateful=True\n",
    "#     ),\n",
    "\n",
    "#     # Layer 3: Dense (fully-connected) layer that transforms the LSTM output\n",
    "#     #   into the vocabulary size. \n",
    "#     tf.keras.layers.Dense(units=vocab_size)\n",
    "#   ])\n",
    "\n",
    "#   return model\n",
    "\n",
    "\n",
    "# define the LSTM model\n",
    "model = tf.keras.Sequential()\n",
    "model.add(tf.keras.layers.LSTM(256, input_shape=(X.shape[1], X.shape[2])))\n",
    "model.add(tf.keras.layers.Dropout(0.2))\n",
    "model.add(tf.keras.layers.Dense(y.shape[1], activation='softmax'))\n",
    "model.compile(loss='categorical_crossentropy', optimizer='adam')"
   ]
  },
  {
   "cell_type": "code",
   "execution_count": 25,
   "metadata": {},
   "outputs": [
    {
     "name": "stdout",
     "output_type": "stream",
     "text": [
      "Epoch 1/2\n",
      "1340/1340 [==============================] - 1031s 765ms/step - loss: 2.8961\n",
      "Epoch 2/2\n",
      "1340/1340 [==============================] - 1091s 814ms/step - loss: 2.1816\n"
     ]
    },
    {
     "data": {
      "text/plain": [
       "<keras.callbacks.History at 0x16e4b92cac0>"
      ]
     },
     "execution_count": 25,
     "metadata": {},
     "output_type": "execute_result"
    }
   ],
   "source": [
    "model.fit(X, y, epochs=2, batch_size=128)"
   ]
  },
  {
   "cell_type": "code",
   "execution_count": 45,
   "metadata": {},
   "outputs": [
    {
     "name": "stdout",
     "output_type": "stream",
     "text": [
      "Seed (start string):\n",
      "\" M:C\n",
      "L:1/8\n",
      "K:D Mixolydian\n",
      "g|afge fdd2|cABG AFDE|FEFG A3B|cBAB cdeg|!\n",
      "afge fdd2|cABG AFDE|FEFG A3B|cAG \"\n",
      "c A2:|!\n",
      "\n",
      "X:15\n",
      "M:C\n",
      "L:1/8\n",
      "K:G Major\n",
      "\n",
      "||22B  GAA||2dd\n",
      "Done.\n"
     ]
    }
   ],
   "source": [
    "import sys\n",
    "\n",
    "# pick a random seed\n",
    "start = np.random.randint(0, len(dataX)-1)\n",
    "pattern = list(dataX[start])\n",
    "print(\"Seed (start string):\")\n",
    "print(\"\\\"\", ''.join([idx2char(value, vocab) for value in pattern]), \"\\\"\")\n",
    "# generate characters\n",
    "for i in range(50):\n",
    "\tx = np.reshape(pattern, (1, len(pattern), 1))\n",
    "\tx = x / float(n_vocab)\n",
    "\tprediction = model.predict(x, verbose=0)\n",
    "\tindex = np.argmax(prediction)\n",
    "\tresult = idx2char(index, vocab)\n",
    "\tseq_in = [idx2char(value, vocab) for value in pattern]\n",
    "\tsys.stdout.write(result)\n",
    "\tpattern.append(index)\n",
    "\tpattern = pattern[1:len(pattern)]\n",
    "print(\"\\nDone.\")"
   ]
  },
  {
   "cell_type": "markdown",
   "metadata": {},
   "source": [
    "### Training the model: loss and training operations"
   ]
  },
  {
   "cell_type": "code",
   "execution_count": 8,
   "metadata": {},
   "outputs": [],
   "source": [
    "def compute_loss(labels, logits):\n",
    "  loss = tf.keras.losses.sparse_categorical_crossentropy(labels, logits, from_logits=True)\n",
    "  return loss\n",
    "\n",
    "# @tf.function\n",
    "def train_step(x, y): \n",
    "  with tf.GradientTape() as tape:\n",
    "    y_hat = model(x)\n",
    "    loss = compute_loss(y, y_hat)\n",
    "\n",
    "  grads = tape.gradient(loss, model.trainable_variables)  \n",
    "  optimizer.apply_gradients(zip(grads, model.trainable_variables))\n",
    "\n",
    "  return loss\n",
    "\n",
    "\n",
    "class PeriodicPlotter:\n",
    "  def __init__(self, sec, xlabel='', ylabel='', scale=None):\n",
    "\n",
    "    self.xlabel = xlabel\n",
    "    self.ylabel = ylabel\n",
    "    self.sec = sec\n",
    "    self.scale = scale\n",
    "\n",
    "    self.tic = time.time()\n",
    "\n",
    "  def plot(self, data):\n",
    "    if time.time() - self.tic > self.sec:\n",
    "      plt.cla()\n",
    "\n",
    "      if self.scale is None:\n",
    "        plt.plot(data)\n",
    "      elif self.scale == 'semilogx':\n",
    "        plt.semilogx(data)\n",
    "      elif self.scale == 'semilogy':\n",
    "        plt.semilogy(data)\n",
    "      elif self.scale == 'loglog':\n",
    "        plt.loglog(data)\n",
    "      else:\n",
    "        raise ValueError(\"unrecognized parameter scale {}\".format(self.scale))\n",
    "\n",
    "      plt.xlabel(self.xlabel); plt.ylabel(self.ylabel)\n",
    "      ipythondisplay.clear_output(wait=True)\n",
    "      ipythondisplay.display(plt.gcf())\n",
    "\n",
    "      self.tic = time.time()\n"
   ]
  },
  {
   "cell_type": "code",
   "execution_count": 58,
   "metadata": {},
   "outputs": [],
   "source": [
    "# Optimization parameters:\n",
    "epochs = 2  # Increase this to train longer\n",
    "batch_size = 4  # Experiment between 1 and 64\n",
    "seq_length = 20  # Experiment between 50 and 500\n",
    "learning_rate = 5e-3  # Experiment between 1e-5 and 1e-1\n",
    "\n",
    "# Model parameters: \n",
    "vocab_size = len(vocab)\n",
    "embedding_dim = 256 # Experiment between 8 and 1024\n",
    "rnn_units = 512  # Experiment between 1 and 2048\n",
    "\n",
    "# Checkpoint location: \n",
    "checkpoint_dir = './training_checkpoints'\n",
    "checkpoint_prefix = os.path.join(checkpoint_dir, \"my_ckpt\")\n",
    "\n",
    "model = build_model(vocab_size, embedding_dim, rnn_units, batch_size)\n",
    "optimizer = tf.keras.optimizers.Adam(learning_rate)\n",
    "vec_songs_train = [char2idx(song, vocab) for song in songs_train]\n",
    "vec_songs_test = [char2idx(song, vocab) for song in songs_test]\n"
   ]
  },
  {
   "cell_type": "code",
   "execution_count": 59,
   "metadata": {},
   "outputs": [
    {
     "data": {
      "image/png": "[encoded data removed]",
      "text/plain": [
       "<Figure size 432x288 with 1 Axes>"
      ]
     },
     "metadata": {
      "image/png": {
       "height": 261,
       "width": 391
      }
     },
     "output_type": "display_data"
    },
    {
     "name": "stderr",
     "output_type": "stream",
     "text": [
      "100%|██████████| 2/2 [10:38<00:00, 319.02s/it]\n"
     ]
    },
    {
     "data": {
      "image/png": "[encoded data removed]",
      "text/plain": [
       "<Figure size 432x288 with 1 Axes>"
      ]
     },
     "metadata": {
      "image/png": {
       "height": 261,
       "width": 391
      },
      "needs_background": "light"
     },
     "output_type": "display_data"
    }
   ],
   "source": [
    "###################\n",
    "# Begin training! #\n",
    "###################\n",
    "\n",
    "history = []\n",
    "plotter = PeriodicPlotter(sec=2, xlabel='Iterations', ylabel='Loss')\n",
    "if hasattr(tqdm, '_instances'): tqdm._instances.clear() # clear if it exists\n",
    "\n",
    "\n",
    "x_batch = []\n",
    "y_batch = []\n",
    "for vec_song in vec_songs_train:\n",
    "    x, y = get_batch(vec_song, seq_length, batch_size)\n",
    "    x_batch.append(x)\n",
    "    y_batch.append(y)\n",
    "\n",
    "for iter in tqdm(range(epochs)):\n",
    "\n",
    "  global_loss = []\n",
    "\n",
    "  # Grab a batch and propagate it through the network\n",
    "  for i in range(len(x_batch)):\n",
    "    loss = train_step(x_batch[i], y_batch[i])\n",
    "    global_loss.append(loss.numpy().mean())\n",
    "\n",
    "  # Update the progress bar\n",
    "  history.append(np.mean(global_loss))\n",
    "  plotter.plot(history)\n",
    "\n",
    "  # Update the model with the changed weights!\n",
    "  if iter % 100 == 0:     \n",
    "    model.save_weights(checkpoint_prefix)\n",
    "    \n",
    "# Save the trained model and the weights\n",
    "model.save_weights(checkpoint_prefix)"
   ]
  },
  {
   "cell_type": "markdown",
   "metadata": {},
   "source": [
    "## Generate music using the RNN model"
   ]
  },
  {
   "cell_type": "markdown",
   "metadata": {},
   "source": [
    "### Restore the latest checkpoint"
   ]
  },
  {
   "cell_type": "code",
   "execution_count": 60,
   "metadata": {},
   "outputs": [],
   "source": [
    "model = build_model(vocab_size, embedding_dim, rnn_units, batch_size=1)\n",
    "\n",
    "# Restore the model weights for the last checkpoint after training\n",
    "model.load_weights(tf.train.latest_checkpoint(checkpoint_dir))\n",
    "model.build(tf.TensorShape([1, None]))\n",
    "\n",
    "# model.summary()"
   ]
  },
  {
   "cell_type": "markdown",
   "metadata": {},
   "source": [
    "### The prediction procedure"
   ]
  },
  {
   "cell_type": "code",
   "execution_count": 84,
   "metadata": {},
   "outputs": [],
   "source": [
    "def generate_text(model, start_string, vocab=vocab, generation_length=None):\n",
    "  input_eval = [char2idx(s, vocab) for s in start_string]\n",
    "  input_eval = tf.expand_dims(input_eval, 0)\n",
    "\n",
    "  text_generated = []\n",
    "\n",
    "  model.reset_states()\n",
    "\n",
    "  n = generation_length\n",
    "  for i in range(n):\n",
    "    predictions = model(input_eval)\n",
    "    predictions = tf.squeeze(predictions, 0)\n",
    "    predicted_id = tf.random.categorical(predictions, num_samples=1)[-1,0].numpy()\n",
    "    input_eval = tf.expand_dims([predicted_id], 0)\n",
    "    text_generated.append(idx2char(predicted_id, vocab))\n",
    "    \n",
    "  text = (''.join(text_generated))\n",
    "    \n",
    "  return text"
   ]
  },
  {
   "cell_type": "code",
   "execution_count": 86,
   "metadata": {},
   "outputs": [
    {
     "name": "stderr",
     "output_type": "stream",
     "text": [
      " 54%|█████▍    | 89/164 [01:54<01:50,  1.47s/it]"
     ]
    }
   ],
   "source": [
    "y = []\n",
    "y_hat = []\n",
    "\n",
    "tqdm._instances.clear()\n",
    "for i in tqdm(range(len(songs_test))):\n",
    "    n = len(songs_test[i])\n",
    "    n_test = round(0.8*len(songs_test[i]))\n",
    "    x_test = songs_test[i][0:n_test]\n",
    "    y_test = songs_test[i][n_test:n]\n",
    "    y.append(y_test)\n",
    "\n",
    "    pred = generate_text(model, start_string=x_test, vocab=vocab, generation_length=len(y_test))\n",
    "    y_hat.append(pred)\n"
   ]
  },
  {
   "cell_type": "code",
   "execution_count": 82,
   "metadata": {},
   "outputs": [
    {
     "name": "stdout",
     "output_type": "stream",
     "text": [
      "BLEU = 0.0073693552855311735\n",
      "ROUGE (n=2) = 0.0\n",
      "model categorical cross-entropy loss = 1.6424818\n",
      "model perplexity (2**) = 3.1220243810324115\n",
      "model perplexity (exp) = 5.1679797\n"
     ]
    }
   ],
   "source": [
    "# BLEU\n",
    "from nltk.translate.bleu_score import SmoothingFunction, corpus_bleu, sentence_bleu\n",
    "\n",
    "def bleu(ref, gen):\n",
    "    ''' \n",
    "    calculate pair wise bleu score. uses nltk implementation\n",
    "    Args:\n",
    "        references : a list of reference sentences \n",
    "        candidates : a list of candidate(generated) sentences\n",
    "    Returns:\n",
    "        bleu score(float)\n",
    "    '''\n",
    "    ref_bleu = []\n",
    "    gen_bleu = []\n",
    "    for l in gen:\n",
    "        gen_bleu.append(l.split())\n",
    "    for i,l in enumerate(ref):\n",
    "        ref_bleu.append([l.split()])\n",
    "    cc = SmoothingFunction()\n",
    "    score_bleu = corpus_bleu(ref_bleu, gen_bleu, weights=(0, 1, 0, 0), smoothing_function=cc.method4)\n",
    "    return score_bleu\n",
    "\n",
    "\n",
    "print('BLEU =', bleu(ref=y, gen=y_hat))\n",
    "\n",
    "\n",
    "# ROUGE\n",
    "#rouge scores for a reference/generated sentence pair\n",
    "#source google seq2seq source code.\n",
    "\n",
    "import itertools\n",
    "\n",
    "#supporting function\n",
    "def _split_into_words(sentences):\n",
    "  \"\"\"Splits multiple sentences into words and flattens the result\"\"\"\n",
    "  return list(itertools.chain(*[_.split(\" \") for _ in sentences]))\n",
    "\n",
    "#supporting function\n",
    "def _get_word_ngrams(n, sentences):\n",
    "  \"\"\"Calculates word n-grams for multiple sentences.\n",
    "  \"\"\"\n",
    "  assert len(sentences) > 0\n",
    "  assert n > 0\n",
    "\n",
    "  words = _split_into_words(sentences)\n",
    "  return _get_ngrams(n, words)\n",
    "\n",
    "#supporting function\n",
    "def _get_ngrams(n, text):\n",
    "  \"\"\"Calcualtes n-grams.\n",
    "  Args:\n",
    "    n: which n-grams to calculate\n",
    "    text: An array of tokens\n",
    "  Returns:\n",
    "    A set of n-grams\n",
    "  \"\"\"\n",
    "  ngram_set = set()\n",
    "  text_length = len(text)\n",
    "  max_index_ngram_start = text_length - n\n",
    "  for i in range(max_index_ngram_start + 1):\n",
    "    ngram_set.add(tuple(text[i:i + n]))\n",
    "  return ngram_set\n",
    "\n",
    "def rouge_n(reference_sentences, evaluated_sentences, n=2):\n",
    "  \"\"\"\n",
    "  Computes ROUGE-N of two text collections of sentences.\n",
    "  Source: http://research.microsoft.com/en-us/um/people/cyl/download/\n",
    "  papers/rouge-working-note-v1.3.1.pdf\n",
    "  Args:\n",
    "    evaluated_sentences: The sentences that have been picked by the summarizer\n",
    "    reference_sentences: The sentences from the referene set\n",
    "    n: Size of ngram.  Defaults to 2.\n",
    "  Returns:\n",
    "    recall rouge score(float)\n",
    "  Raises:\n",
    "    ValueError: raises exception if a param has len <= 0\n",
    "  \"\"\"\n",
    "  if len(evaluated_sentences) <= 0 or len(reference_sentences) <= 0:\n",
    "    raise ValueError(\"Collections must contain at least 1 sentence.\")\n",
    "\n",
    "  evaluated_ngrams = _get_word_ngrams(n, evaluated_sentences)\n",
    "  reference_ngrams = _get_word_ngrams(n, reference_sentences)\n",
    "  reference_count = len(reference_ngrams)\n",
    "  evaluated_count = len(evaluated_ngrams)\n",
    "\n",
    "  # Gets the overlapping ngrams between evaluated and reference\n",
    "  overlapping_ngrams = evaluated_ngrams.intersection(reference_ngrams)\n",
    "  overlapping_count = len(overlapping_ngrams)\n",
    "\n",
    "  # Handle edge case. This isn't mathematically correct, but it's good enough\n",
    "  if evaluated_count == 0:\n",
    "    precision = 0.0\n",
    "  else:\n",
    "    precision = overlapping_count / evaluated_count\n",
    "\n",
    "  if reference_count == 0:\n",
    "    recall = 0.0\n",
    "  else:\n",
    "    recall = overlapping_count / reference_count\n",
    "\n",
    "  f1_score = 2.0 * ((precision * recall) / (precision + recall + 1e-8))\n",
    "\n",
    "  #just returning recall count in rouge, useful for our purpose\n",
    "  return recall\n",
    "\n",
    "print('ROUGE (n=2) =',rouge_n(reference_sentences=y, evaluated_sentences=y_hat, n=2))\n",
    "\n",
    "# Perplexity\n",
    "print('model categorical cross-entropy loss =', np.mean(global_loss))\n",
    "print('model perplexity (2**) =', 2**(np.mean(global_loss)))\n",
    "print('model perplexity (exp) =', tf.exp(np.mean(global_loss)).numpy())\n"
   ]
  },
  {
   "cell_type": "code",
   "execution_count": null,
   "metadata": {},
   "outputs": [],
   "source": [
    "# caminhos\n",
    "# - aparentemente, o código gera as músicas como deveria, mas sem reprodutibilidade...\n",
    "# - inserir qualquer comando de fixar semente em \"get_batch()\" está dando problema\n",
    "# - no entanto, é possível fixar semente para peso inicial e para gerar caracteres/músicas dado o modelo com os pesos carregados (testar melhor)\n",
    "# - talvez vale a pena criar alguns modelos deixando os pesos salvos, e gerar as músicas com base em uma seed determinada\n",
    "# - talvez estabilizando o código, dê para realizar a computação na CPU para garantir reprodutibilidade\n",
    "# próximos passos código\n",
    "# - limpar/manipular arquivos ABC para brincar com predição\n",
    "# - redefinir get_batch para limitar para cada arquivo .abc (objetivo: extrapolar cada música)\n",
    "# - adaptar código para executar com dados do abcnotation, além do irish, claro\n",
    "\n",
    "# https://machinelearningmastery.com/text-generation-lstm-recurrent-neural-networks-python-keras/"
   ]
  },
  {
   "cell_type": "markdown",
   "metadata": {},
   "source": [
    "## AAAAAA"
   ]
  },
  {
   "cell_type": "code",
   "execution_count": null,
   "metadata": {},
   "outputs": [],
   "source": [
    "# def generate_text2(model, start_string, vocab=vocab, y_test=None):\n",
    "#   input_eval = [char2idx(s, vocab) for s in start_string]\n",
    "#   input_eval = tf.expand_dims(input_eval, 0)\n",
    "\n",
    "#   text_generated = []\n",
    "#   loss = []\n",
    "\n",
    "#   model.reset_states()\n",
    "#   tqdm._instances.clear()\n",
    "\n",
    "#   n = len(y_test)\n",
    "#   for i in tqdm(range(n)):\n",
    "#     predictions = model(input_eval)\n",
    "#     predictions = tf.squeeze(predictions, 0)\n",
    "#     output = tf.expand_dims([char2idx(s, vocab) for s in start_string[i:]+y_test[0:i]],0)\n",
    "#     gen_loss = compute_loss(output, predictions)\n",
    "#     loss.append(gen_loss.numpy().mean())\n",
    "#     predicted_id = tf.random.categorical(predictions, num_samples=1)[-1,0].numpy()\n",
    "#     input_eval = tf.expand_dims([predicted_id], 0)\n",
    "#     text_generated.append(idx2char(predicted_id, vocab))\n",
    "    \n",
    "#   text = (start_string + ''.join(text_generated))\n",
    "    \n",
    "#   return text, loss\n",
    "\n",
    "\n",
    "\n",
    "# n = len(songs[1]) \n",
    "# n_train = round(0.8*len(songs[1]))\n",
    "# x_train = songs[1][0:n_train]\n",
    "# y_train = songs[1][n_train:n]\n",
    "\n",
    "\n",
    "# model = build_model(vocab_size, embedding_dim, rnn_units, batch_size=1)\n",
    "# model.load_weights(tf.train.latest_checkpoint(checkpoint_dir))\n",
    "\n",
    "# # generated_text, test_loss = generate_text2(model, start_string=x_train, vocab=vocab, y_test=y_train)\n",
    "# # generated_text\n",
    "# # test_loss\n",
    "\n",
    "# input_eval = [char2idx(s, vocab) for s in x_train]\n",
    "# input_eval = tf.expand_dims(input_eval, 0)\n",
    "\n",
    "# # output_eval = [char2idx(s, vocab) for s in y_train]\n",
    "# # output_eval = tf.expand_dims(output_eval, 0) \n",
    "\n",
    "# # pred = model(input_eval)\n",
    "# # pred = tf.squeeze(pred, 0)\n",
    "# # idx2char(np.squeeze(tf.random.categorical(pred, num_samples=1).numpy()), vocab)\n",
    "# # idx2char(tf.random.categorical(pred, num_samples=1)[-1,0].numpy(), vocab)\n",
    "# # x_train\n",
    "\n",
    "# # i=0\n",
    "# # len(x_train[i:]+y_train[0:i+1])\n",
    "# # x_batch[0]\n",
    "# # y_batch[0]\n",
    "# # compute_loss(output, pred).numpy().mean()\n"
   ]
  }
 ],
 "metadata": {
  "kernelspec": {
   "display_name": "Python 3.9.12 ('tcc')",
   "language": "python",
   "name": "python3"
  },
  "language_info": {
   "codemirror_mode": {
    "name": "ipython",
    "version": 3
   },
   "file_extension": ".py",
   "mimetype": "text/x-python",
   "name": "python",
   "nbconvert_exporter": "python",
   "pygments_lexer": "ipython3",
   "version": "3.9.12"
  },
  "orig_nbformat": 4,
  "vscode": {
   "interpreter": {
    "hash": "c8423169460a4ab7c0196f3b7f025b4f11bf11307ee8777457d830da4956ded6"
   }
  }
 },
 "nbformat": 4,
 "nbformat_minor": 2
}
