{
 "cells": [
  {
   "cell_type": "markdown",
   "metadata": {},
   "source": [
    "# Código Base\n",
    "link: https://goodboychan.github.io/python/tensorflow/mit/2021/02/14/music-generation.html"
   ]
  },
  {
   "cell_type": "markdown",
   "metadata": {},
   "source": [
    "## Music Generation with RNNs"
   ]
  },
  {
   "cell_type": "code",
   "execution_count": 30,
   "metadata": {},
   "outputs": [],
   "source": [
    "import tensorflow as tf \n",
    "import numpy as np\n",
    "import os\n",
    "import time\n",
    "import regex as re\n",
    "from IPython import display as ipythondisplay\n",
    "from tqdm import tqdm\n",
    "import matplotlib.pyplot as plt\n",
    "from music21 import converter\n",
    "import collections\n",
    "# import subprocess\n",
    "# import urllib\n",
    "# import functools\n",
    "import random\n",
    "\n",
    "# Check that we are using a GPU, if not switch runtimes\n",
    "#   using Runtime > Change Runtime Type > GPU\n",
    "assert len(tf.config.list_physical_devices('GPU')) > 0\n",
    "\n",
    "# devices = tf.config.list_physical_devices()\n",
    "# tf.config.experimental.set_visible_devices(devices[0]) # fixa para executar na CPU (garante determinismo)\n",
    "\n",
    "global_seed=301831\n",
    "os.environ['PYTHONHASHSEED']=str(global_seed)\n",
    "tf.keras.utils.set_random_seed(global_seed)\n",
    "os.environ['TF_DETERMINISTIC_OPS'] = '1'\n",
    "tf.config.experimental.enable_op_determinism()\n",
    "os.environ['TF_DISABLE_SEGMENT_REDUCTION_OP_DETERMINISM_EXCEPTIONS'] = 'True'\n",
    "# np.random.seed(global_seed)\n",
    "# random.seed(global_seed)\n",
    "# tf.random.set_seed(global_seed)\n",
    "\n",
    "\n",
    "\n"
   ]
  },
  {
   "cell_type": "markdown",
   "metadata": {},
   "source": [
    "## Dataset"
   ]
  },
  {
   "cell_type": "code",
   "execution_count": 31,
   "metadata": {},
   "outputs": [],
   "source": [
    "# def abc_filenames(datapath='abcnotation_midi-test', count=False):\n",
    "#     songs = [os.path.join(datapath, f) for f in os.listdir(datapath) if os.path.isfile(os.path.join(datapath, f))]\n",
    "#     if count==True:\n",
    "#         print('Found {} songs in directory'.format(len(songs)))\n",
    "#     return songs\n",
    "\n",
    "# def abc_example():\n",
    "#     songs = abc_filenames(count=True)\n",
    "#     with open(songs[1], 'r') as f:\n",
    "#         example_song = f.read()\n",
    "#     print('\\nExample Song: ')\n",
    "#     print(example_song[1:-2])\n",
    "\n",
    "# def join_songs(filenames):\n",
    "#     songs = []\n",
    "#     for filename in filenames:\n",
    "#         f = open(filename,'r', encoding='utf8')\n",
    "#         text = f.read()\n",
    "#         songs.append(text[1:-2])\n",
    "#     songs_joined = '\\n\\n'.join(songs)\n",
    "#     return songs_joined  \n",
    "\n",
    "# datapath = \"./data/abcnotation\"\n",
    "# filenames = abc_filenames(datapath)\n",
    "# songs = []\n",
    "# for filename in filenames[0:5000]: \n",
    "#     try:\n",
    "#             f = open(filename,'r', encoding='utf8')\n",
    "#             text = f.read()\n",
    "#             songs.append(text)\n",
    "#             f.close()\n",
    "#     except:\n",
    "#         print(\"Erro em:\", filename)\n",
    "#         pass\n",
    "    \n",
    "# # print(len(songs))\n",
    "# # print(len(filenames))\n",
    "\n",
    "# example_song = songs[1]\n",
    "# print(\"\\nExample song: \")\n",
    "# print(example_song)"
   ]
  },
  {
   "cell_type": "code",
   "execution_count": 32,
   "metadata": {},
   "outputs": [
    {
     "name": "stdout",
     "output_type": "stream",
     "text": [
      "\n",
      "Example song: \n",
      "X:1\n",
      "T:Alexander's\n",
      "Z: id:dc-hornpipe-1\n",
      "M:C|\n",
      "L:1/8\n",
      "K:D Major\n",
      "(3ABc|dAFA DFAd|fdcd FAdf|gfge fefd|(3efe (3dcB A2 (3ABc|!\n",
      "dAFA DFAd|fdcd FAdf|gfge fefd|(3efe dc d2:|!\n",
      "AG|FAdA FAdA|GBdB GBdB|Acec Acec|dfaf gecA|!\n",
      "FAdA FAdA|GBdB GBdB|Aceg fefd|(3efe dc d2:|!\n"
     ]
    }
   ],
   "source": [
    "def extract_song_snippet(text):\n",
    "    pattern = '(^|\\n\\n)(.*?)\\n\\n'\n",
    "    search_results = re.findall(pattern, text, overlapped=True, flags=re.DOTALL)\n",
    "    songs = [song[1] for song in search_results]\n",
    "    # print(\"Found {} songs in text\".format(len(songs)))\n",
    "    return songs\n",
    "\n",
    "cwd = os.getcwd()\n",
    "\n",
    "songs = []\n",
    "\n",
    "with open(os.path.join(cwd, 'data', 'irish', 'irish.abc'), 'r') as f:\n",
    "    text = f.read()\n",
    "    songs = extract_song_snippet(text)\n",
    "\n",
    "\n",
    "\n",
    "# Print one of the songs to inspect it in greater detail!\n",
    "example_song = songs[0]\n",
    "print(\"\\nExample song: \")\n",
    "print(example_song)"
   ]
  },
  {
   "cell_type": "code",
   "execution_count": 33,
   "metadata": {},
   "outputs": [
    {
     "name": "stdout",
     "output_type": "stream",
     "text": [
      "X:1\n",
      "M:C|\n",
      "L:1/8\n",
      "K:D Major\n",
      "(3ABc|dAFA DFAd|fdcd FAdf|gfge fefd|(3efe (3dcB A2 (3ABc|!\n",
      "dAFA DFAd|fdcd FAdf|gfge fefd|(3efe dc d2:|!\n",
      "AG|FAdA FAdA|GBdB GBdB|Acec Acec|dfaf gecA|!\n",
      "FAdA FAdA|GBdB GBdB|Aceg fefd|(3efe dc d2:|!\n"
     ]
    }
   ],
   "source": [
    "def clean_abc(abc_song, show_rslt=False):\n",
    "    # original .abc\n",
    "    text = abc_song\n",
    "    new_text = text\n",
    "\n",
    "    # # remove index field\n",
    "    # new_text = re.sub('(X:).*\\n', '', new_text)\n",
    "\n",
    "    # remove title field\n",
    "    new_text = re.sub('(T:).*\\n', '', new_text)\n",
    "\n",
    "    # remove composer field\n",
    "    new_text = re.sub('(C:).*\\n', '', new_text)\n",
    "\n",
    "    # remove source field\n",
    "    new_text = re.sub('(S:).*\\n', '', new_text)\n",
    "\n",
    "    # remove geographical origin field\n",
    "    new_text = re.sub('(O:).*\\n', '', new_text)\n",
    "\n",
    "    # remove textual notes field\n",
    "    new_text = re.sub('(N:).*\\n', '', new_text)\n",
    "\n",
    "    # remove identity of transcriber/source of transcription field\n",
    "    new_text = re.sub('(Z:).*\\n', '', new_text)\n",
    "\n",
    "    # remove lyrics\n",
    "    new_text = re.sub('([wW]:).*\\n','',new_text)\n",
    "\n",
    "    # remove comments\n",
    "    new_text = re.sub('(%).*\\n','',new_text)\n",
    "\n",
    "    if show_rslt==True:\n",
    "        # print results\n",
    "        print('original: '+str(len(text))+' characters'+'\\n' + text)\n",
    "        print()\n",
    "        print('after modification: '+str(len(new_text))+' characters'+'\\n' + new_text)\n",
    "\n",
    "    return new_text\n",
    "\n",
    "example_song2 = clean_abc(example_song)\n",
    "print(example_song2)"
   ]
  },
  {
   "cell_type": "code",
   "execution_count": 34,
   "metadata": {},
   "outputs": [
    {
     "name": "stdout",
     "output_type": "stream",
     "text": [
      "There are 64 unique characters in the dataset\n"
     ]
    }
   ],
   "source": [
    "def extract_vocab(text):\n",
    "    vocab = sorted(set(text))\n",
    "    return {u:i for i, u in enumerate(vocab)}\n",
    "\n",
    "for i in range(len(songs)):\n",
    "    songs[i] = clean_abc(songs[i])\n",
    "\n",
    "songs_joined = \"\\n\\n\".join(songs) \n",
    "\n",
    "# Find all unique characters in the joined string\n",
    "vocab = extract_vocab(songs_joined)\n",
    "print(\"There are\", len(vocab), \"unique characters in the dataset\")"
   ]
  },
  {
   "cell_type": "markdown",
   "metadata": {},
   "source": [
    "## Process the dataset for the learning task"
   ]
  },
  {
   "cell_type": "code",
   "execution_count": 35,
   "metadata": {},
   "outputs": [],
   "source": [
    "# Create a mapping from character to unique index.\n",
    "# For example, to get the index of the character \"d\", \n",
    "#   we can evaluate `char2idx[\"d\"]`.  \n",
    "#char2idx = {u:i for i, u in enumerate(vocab)}\n",
    "\n",
    "def char2idx(string, vocab=None):\n",
    "    if vocab==None:\n",
    "        vocab = extract_vocab(string)\n",
    "    vectorized_list = np.array([vocab[s] for s in string])\n",
    "    return vectorized_list\n",
    "\n",
    "# Create a mapping from indices to characters. This is\n",
    "#   the inverse of char2idx and allows us to convert back\n",
    "#   from unique index to the character in our vocabulary.\n",
    "#idx2char = np.array(vocab)\n",
    "\n",
    "def idx2char(idx, vocab):\n",
    "    keys = list(vocab.keys())\n",
    "    string = ''\n",
    "    if isinstance(idx, collections.Iterable):\n",
    "        for i in idx:\n",
    "            string += keys[i]\n",
    "    else:\n",
    "        string += keys[idx]\n",
    "    return string"
   ]
  },
  {
   "cell_type": "code",
   "execution_count": 36,
   "metadata": {},
   "outputs": [],
   "source": [
    "# print('{')\n",
    "# count=0\n",
    "# for char,val in zip(vocab.keys(), vocab.values()):\n",
    "#     print('  {:4s}: {:3d}'.format(repr(char), val))\n",
    "#     count +=1\n",
    "#     if count == 19: \n",
    "#         print('  ...\\n}')\n",
    "#         break"
   ]
  },
  {
   "cell_type": "code",
   "execution_count": 37,
   "metadata": {},
   "outputs": [],
   "source": [
    "'''TODO: Write a function to convert the all songs string to a vectorized\n",
    "    (i.e., numeric) representation. Use the appropriate mapping\n",
    "    above to convert from vocab characters to the corresponding indices.\n",
    "\n",
    "    NOTE: the output of the `vectorize_string` function \n",
    "    should be a np.array with `N` elements, where `N` is\n",
    "    the number of characters in the input string\n",
    "'''\n",
    "\n",
    "# def vectorize_string(string):\n",
    "#     vectorized_list = np.array([char2idx[s] for s in string])\n",
    "#     return vectorized_list\n",
    "\n",
    "vectorized_songs = char2idx(songs_joined, vocab)"
   ]
  },
  {
   "cell_type": "code",
   "execution_count": 38,
   "metadata": {},
   "outputs": [],
   "source": [
    "# print ('{} ---- characters mapped to int ----> {}'.format(repr(songs_joined[:10]), vectorized_songs[:10]))\n",
    "# # check that vectorized_songs is a numpy array\n",
    "# assert isinstance(vectorized_songs, np.ndarray), \"returned result should be a numpy array\""
   ]
  },
  {
   "cell_type": "markdown",
   "metadata": {},
   "source": [
    "## Create training examples and targets"
   ]
  },
  {
   "cell_type": "code",
   "execution_count": 39,
   "metadata": {},
   "outputs": [
    {
     "name": "stdout",
     "output_type": "stream",
     "text": [
      "[array([[45, 44, 45,  1, 30, 25, 45, 47, 63, 48],\n",
      "       [45, 63,  6, 14, 46, 47, 46,  1, 45, 44]]), array([[63, 26, 13, 26, 31,  1, 44, 13, 44, 25],\n",
      "       [13, 31, 25, 63, 26, 13, 26, 31,  1, 44]])]\n",
      "\n",
      "[[[45 44 45  1 30 25 45 47 63 48]\n",
      "  [45 63  6 14 46 47 46  1 45 44]]\n",
      "\n",
      " [[63 26 13 26 31  1 44 13 44 25]\n",
      "  [13 31 25 63 26 13 26 31  1 44]]]\n"
     ]
    }
   ],
   "source": [
    "def get_batch(vectorized_songs, seq_length, batch_size):\n",
    "  n = vectorized_songs.shape[0] - 1\n",
    "\n",
    "  idx = np.random.choice(n-seq_length, batch_size)\n",
    "\n",
    "  input_batch = [vectorized_songs[i:i+seq_length] for i in idx]\n",
    "  output_batch = [vectorized_songs[i+1: i+1+seq_length] for i in idx]\n",
    "\n",
    "  x_batch = np.reshape(input_batch, [batch_size, seq_length])\n",
    "  y_batch = np.reshape(output_batch, [batch_size, seq_length])\n",
    "\n",
    "  return x_batch, y_batch\n",
    "\n",
    "def get_batch2(vectorized_song, seq_length, batch_size):\n",
    "  n = len(vectorized_song) - 1\n",
    "\n",
    "  idx = np.random.choice(n-seq_length, batch_size)\n",
    "\n",
    "  input_batch = [vectorized_song[i:i+seq_length] for i in idx]\n",
    "  output_batch = [vectorized_song[i+1: i+1+seq_length] for i in idx]\n",
    "\n",
    "  x_batch = np.reshape(input_batch, [batch_size, seq_length])\n",
    "  y_batch = np.reshape(output_batch, [batch_size, seq_length])\n",
    "\n",
    "  return x_batch, y_batch\n",
    "\n",
    "\n",
    "vec_songs = [char2idx(song,vocab) for song in songs[0:2]]\n",
    "\n",
    "seq_length = 10\n",
    "batch_size = 2\n",
    "\n",
    "x_batch = []\n",
    "y_batch = []\n",
    "\n",
    "for vec_song in vec_songs[0:2]:\n",
    "  x, y = get_batch2(vec_song, seq_length, batch_size)\n",
    "  x_batch.append(x)\n",
    "  y_batch.append(y)\n",
    "\n",
    "print(x_batch)\n",
    "print()\n",
    "print(np.squeeze(x_batch))\n",
    "\n",
    "# for i, (input, output) in enumerate(zip(np.squeeze(x), np.squeeze(y))):\n",
    "#   print(\"Step {:3d}\".format(i))\n",
    "#   print(\"  input: {} ({:s})\".format(input, repr(idx2char(input, vocab))))\n",
    "#   print(\"  expected output: {} ({:s})\".format(output, repr(idx2char(output, vocab))))"
   ]
  },
  {
   "cell_type": "code",
   "execution_count": 40,
   "metadata": {},
   "outputs": [],
   "source": [
    "# x_batch, y_batch = get_batch(vectorized_songs, seq_length=5, batch_size=1)\n",
    "\n",
    "# x_batch\n",
    "\n",
    "# for i, (input_idx, target_idx) in enumerate(zip(np.squeeze(x_batch), np.squeeze(y_batch))):\n",
    "#     print(\"Step {:3d}\".format(i))\n",
    "#     print(\"  input: {} ({:s})\".format(input_idx, repr(idx2char(input_idx, vocab))))\n",
    "#     print(\"  expected output: {} ({:s})\".format(target_idx, repr(idx2char(target_idx, vocab))))"
   ]
  },
  {
   "cell_type": "markdown",
   "metadata": {},
   "source": [
    "## The Recurrent Neural Network (RNN) model"
   ]
  },
  {
   "cell_type": "markdown",
   "metadata": {},
   "source": [
    "### Define the RNN model"
   ]
  },
  {
   "cell_type": "code",
   "execution_count": 41,
   "metadata": {},
   "outputs": [],
   "source": [
    "def build_model(vocab_size, embedding_dim, rnn_units, batch_size):\n",
    "  model = tf.keras.Sequential([\n",
    "    # Layer 1: Embedding layer to transform indices into dense vectors \n",
    "    #   of a fixed embedding size\n",
    "    tf.keras.layers.Embedding(vocab_size, embedding_dim, batch_input_shape=[batch_size, None]),\n",
    "\n",
    "    # Layer 2: LSTM with `rnn_units` number of units. \n",
    "    tf.keras.layers.LSTM(\n",
    "    units=rnn_units, \n",
    "    activation='tanh',\n",
    "    recurrent_activation='sigmoid',\n",
    "    recurrent_initializer='glorot_uniform',\n",
    "    use_bias=True,\n",
    "    bias_initializer='zeros',\n",
    "    return_sequences=True, \n",
    "    stateful=True\n",
    "    ),\n",
    "\n",
    "    # Layer 3: Dense (fully-connected) layer that transforms the LSTM output\n",
    "    #   into the vocabulary size. \n",
    "    tf.keras.layers.Dense(units=vocab_size)\n",
    "  ])\n",
    "\n",
    "  return model\n",
    "\n",
    "# Build a simple model with default hyperparameters. You will get the \n",
    "#   chance to change these later.\n",
    "model = build_model(len(vocab), embedding_dim=256, rnn_units=1024, batch_size=32)\n",
    "# model.weights"
   ]
  },
  {
   "cell_type": "markdown",
   "metadata": {},
   "source": [
    "### Test out the model"
   ]
  },
  {
   "cell_type": "code",
   "execution_count": 42,
   "metadata": {},
   "outputs": [],
   "source": [
    "# model.summary()"
   ]
  },
  {
   "cell_type": "code",
   "execution_count": 43,
   "metadata": {},
   "outputs": [],
   "source": [
    "# x, y = get_batch(vectorized_songs, seq_length=100, batch_size=32)\n",
    "# pred = model(x)\n",
    "# print(\"Input shape:      \", x.shape, \" # (batch_size, sequence_length)\")\n",
    "# print(\"Prediction shape: \", pred.shape, \"# (batch_size, sequence_length, vocab_size)\")"
   ]
  },
  {
   "cell_type": "markdown",
   "metadata": {},
   "source": [
    "### Prediction from the untrained model"
   ]
  },
  {
   "cell_type": "code",
   "execution_count": 44,
   "metadata": {},
   "outputs": [],
   "source": [
    "# sampled_indices = tf.random.categorical(pred[0], num_samples=1)\n",
    "# sampled_indices = tf.squeeze(sampled_indices,axis=-1).numpy()\n",
    "# # sampled_indices\n",
    "\n",
    "# print(\"Input: \\n\", repr(\"\".join(idx2char(x[0], vocab))))\n",
    "# print()\n",
    "# print(\"Next Char Predictions: \\n\", repr(\"\".join(idx2char(sampled_indices, vocab))))"
   ]
  },
  {
   "cell_type": "markdown",
   "metadata": {},
   "source": [
    "### Training the model: loss and training operations"
   ]
  },
  {
   "cell_type": "code",
   "execution_count": 45,
   "metadata": {},
   "outputs": [],
   "source": [
    "'''TODO: define the loss function to compute and return the loss between\n",
    "    the true labels and predictions (logits). Set the argument from_logits=True.'''\n",
    "def compute_loss(labels, logits):\n",
    "  loss = tf.keras.losses.sparse_categorical_crossentropy(labels, logits, from_logits=True)\n",
    "  return loss\n",
    "\n",
    "# '''TODO: compute the loss using the true next characters from the example batch \n",
    "#     and the predictions from the untrained model several cells above'''\n",
    "# example_batch_loss = compute_loss(y, pred) \n",
    "\n",
    "# print(\"Prediction shape: \", pred.shape, \" # (batch_size, sequence_length, vocab_size)\") \n",
    "# print(\"scalar_loss:      \", example_batch_loss.numpy().mean())"
   ]
  },
  {
   "cell_type": "code",
   "execution_count": 46,
   "metadata": {},
   "outputs": [],
   "source": [
    "# # Optimization parameters:\n",
    "# num_training_iterations = 2000  # Increase this to train longer\n",
    "# batch_size = 4  # Experiment between 1 and 64\n",
    "# seq_length = 100  # Experiment between 50 and 500\n",
    "# learning_rate = 5e-3  # Experiment between 1e-5 and 1e-1\n",
    "\n",
    "# # Model parameters: \n",
    "# vocab_size = len(vocab)\n",
    "# embedding_dim = 256 \n",
    "# rnn_units = 512  # Experiment between 1 and 2048\n",
    "\n",
    "# # Checkpoint location: \n",
    "# checkpoint_dir = './training_checkpoints'\n",
    "# checkpoint_prefix = os.path.join(checkpoint_dir, \"my_ckpt\")"
   ]
  },
  {
   "cell_type": "code",
   "execution_count": 47,
   "metadata": {},
   "outputs": [],
   "source": [
    "class PeriodicPlotter:\n",
    "  def __init__(self, sec, xlabel='', ylabel='', scale=None):\n",
    "\n",
    "    self.xlabel = xlabel\n",
    "    self.ylabel = ylabel\n",
    "    self.sec = sec\n",
    "    self.scale = scale\n",
    "\n",
    "    self.tic = time.time()\n",
    "\n",
    "  def plot(self, data):\n",
    "    if time.time() - self.tic > self.sec:\n",
    "      plt.cla()\n",
    "\n",
    "      if self.scale is None:\n",
    "        plt.plot(data)\n",
    "      elif self.scale == 'semilogx':\n",
    "        plt.semilogx(data)\n",
    "      elif self.scale == 'semilogy':\n",
    "        plt.semilogy(data)\n",
    "      elif self.scale == 'loglog':\n",
    "        plt.loglog(data)\n",
    "      else:\n",
    "        raise ValueError(\"unrecognized parameter scale {}\".format(self.scale))\n",
    "\n",
    "      plt.xlabel(self.xlabel); plt.ylabel(self.ylabel)\n",
    "      ipythondisplay.clear_output(wait=True)\n",
    "      ipythondisplay.display(plt.gcf())\n",
    "\n",
    "      self.tic = time.time()"
   ]
  },
  {
   "cell_type": "code",
   "execution_count": 48,
   "metadata": {},
   "outputs": [],
   "source": [
    "# '''TODO: instantiate a new model for training using the `build_model`\n",
    "#   function and the hyperparameters created above.'''\n",
    "# model = build_model(vocab_size, embedding_dim, rnn_units, batch_size)\n",
    "\n",
    "# '''TODO: instantiate an optimizer with its learning rate.\n",
    "#   Checkout the tensorflow website for a list of supported optimizers.\n",
    "#   https://www.tensorflow.org/api_docs/python/tf/keras/optimizers/\n",
    "#   Try using the Adam optimizer to start.'''\n",
    "# optimizer = tf.keras.optimizers.Adam(learning_rate)\n",
    "\n",
    "# #@tf.function\n",
    "def train_step(x, y): \n",
    "  # Use tf.GradientTape()\n",
    "  with tf.GradientTape() as tape:\n",
    "  \n",
    "    '''TODO: feed the current input into the model and generate predictions'''\n",
    "    y_hat = model(x)\n",
    "  \n",
    "    '''TODO: compute the loss!'''\n",
    "    loss = compute_loss(y, y_hat)\n",
    "\n",
    "  # Now, compute the gradients \n",
    "  '''TODO: complete the function call for gradient computation. \n",
    "      Remember that we want the gradient of the loss with respect all \n",
    "      of the model parameters. \n",
    "      HINT: use `model.trainable_variables` to get a list of all model\n",
    "      parameters.'''\n",
    "  grads = tape.gradient(loss, model.trainable_variables)\n",
    "  \n",
    "  # Apply the gradients to the optimizer so it can update the model accordingly\n",
    "  optimizer.apply_gradients(zip(grads, model.trainable_variables))\n",
    "  return loss\n",
    "\n",
    "# ###################\n",
    "# # Begin training! #\n",
    "# ###################\n",
    "\n",
    "# history = []\n",
    "# plotter = PeriodicPlotter(sec=2, xlabel='Iterations', ylabel='Loss')\n",
    "# if hasattr(tqdm, '_instances'): tqdm._instances.clear() # clear if it exists\n",
    "\n",
    "# for iter in tqdm(range(num_training_iterations)):\n",
    "\n",
    "#   # Grab a batch and propagate it through the network\n",
    "#   x_batch, y_batch = get_batch(vectorized_songs, seq_length, batch_size)\n",
    "#   loss = train_step(x_batch, y_batch)\n",
    "\n",
    "#   # Update the progress bar\n",
    "#   history.append(loss.numpy().mean())\n",
    "#   plotter.plot(history)\n",
    "\n",
    "#   # Update the model with the changed weights!\n",
    "#   if iter % 100 == 0:     \n",
    "#     model.save_weights(checkpoint_prefix)\n",
    "    \n",
    "# # Save the trained model and the weights\n",
    "# model.save_weights(checkpoint_prefix)"
   ]
  },
  {
   "cell_type": "code",
   "execution_count": 49,
   "metadata": {},
   "outputs": [],
   "source": [
    "# Optimization parameters:\n",
    "num_training_iterations = 2  # Increase this to train longer\n",
    "batch_size = 4  # Experiment between 1 and 64\n",
    "seq_length = 10  # Experiment between 50 and 500\n",
    "learning_rate = 5e-3  # Experiment between 1e-5 and 1e-1\n",
    "\n",
    "# Model parameters: \n",
    "vocab_size = len(vocab)\n",
    "embedding_dim = 256 \n",
    "rnn_units = 512  # Experiment between 1 and 2048\n",
    "\n",
    "# Checkpoint location: \n",
    "checkpoint_dir = './training_checkpoints'\n",
    "checkpoint_prefix = os.path.join(checkpoint_dir, \"my_ckpt\")\n",
    "\n",
    "model = build_model(vocab_size, embedding_dim, rnn_units, batch_size)\n",
    "optimizer = tf.keras.optimizers.Adam(learning_rate)\n",
    "vec_songs = [char2idx(song, vocab) for song in songs]\n"
   ]
  },
  {
   "cell_type": "code",
   "execution_count": 50,
   "metadata": {},
   "outputs": [
    {
     "data": {
      "image/png": "[encoded data removed]",
      "text/plain": [
       "<Figure size 432x288 with 1 Axes>"
      ]
     },
     "metadata": {
      "image/png": {
       "height": 261,
       "width": 391
      }
     },
     "output_type": "display_data"
    },
    {
     "name": "stderr",
     "output_type": "stream",
     "text": [
      "100%|██████████| 2/2 [01:02<00:00, 31.31s/it]\n"
     ]
    },
    {
     "data": {
      "image/png": "[encoded data removed]",
      "text/plain": [
       "<Figure size 432x288 with 1 Axes>"
      ]
     },
     "metadata": {
      "image/png": {
       "height": 261,
       "width": 391
      },
      "needs_background": "light"
     },
     "output_type": "display_data"
    }
   ],
   "source": [
    "###################\n",
    "# Begin training! #\n",
    "###################\n",
    "\n",
    "history = []\n",
    "plotter = PeriodicPlotter(sec=2, xlabel='Iterations', ylabel='Loss')\n",
    "if hasattr(tqdm, '_instances'): tqdm._instances.clear() # clear if it exists\n",
    "\n",
    "\n",
    "x_batch = []\n",
    "y_batch = []\n",
    "for vec_song in vec_songs:\n",
    "    x, y = get_batch2(vec_song, seq_length, batch_size)\n",
    "    x_batch.append(x)\n",
    "    y_batch.append(y)\n",
    "\n",
    "for iter in tqdm(range(num_training_iterations)):\n",
    "\n",
    "  global_loss = []\n",
    "\n",
    "  # Grab a batch and propagate it through the network\n",
    "  for i in range(len(x_batch)):\n",
    "    loss = train_step(x_batch[i], y_batch[i])\n",
    "    global_loss.append(loss.numpy().mean())\n",
    "\n",
    "  # Update the progress bar\n",
    "  history.append(np.mean(global_loss))\n",
    "  plotter.plot(history)\n",
    "\n",
    "  # Update the model with the changed weights!\n",
    "  if iter % 100 == 0:     \n",
    "    model.save_weights(checkpoint_prefix)\n",
    "    \n",
    "# Save the trained model and the weights\n",
    "model.save_weights(checkpoint_prefix)"
   ]
  },
  {
   "cell_type": "markdown",
   "metadata": {},
   "source": [
    "## Generate music using the RNN model"
   ]
  },
  {
   "cell_type": "markdown",
   "metadata": {},
   "source": [
    "### Restore the latest checkpoint"
   ]
  },
  {
   "cell_type": "code",
   "execution_count": 51,
   "metadata": {},
   "outputs": [],
   "source": [
    "model = build_model(vocab_size, embedding_dim, rnn_units, batch_size=1)\n",
    "\n",
    "# Restore the model weights for the last checkpoint after training\n",
    "model.load_weights(tf.train.latest_checkpoint(checkpoint_dir))\n",
    "model.build(tf.TensorShape([1, None]))\n",
    "\n",
    "# model.summary()"
   ]
  },
  {
   "cell_type": "markdown",
   "metadata": {},
   "source": [
    "### The prediction procedure"
   ]
  },
  {
   "cell_type": "code",
   "execution_count": 52,
   "metadata": {},
   "outputs": [],
   "source": [
    "def generate_text(model, start_string, vocab=vocab, choose='length', generation_length=None, n_songs=None):\n",
    "  input_eval = [char2idx(s, vocab) for s in start_string]\n",
    "  input_eval = tf.expand_dims(input_eval, 0)\n",
    "\n",
    "  text_generated = []\n",
    "\n",
    "  model.reset_states()\n",
    "  tqdm._instances.clear()\n",
    "\n",
    "  if choose=='length':\n",
    "    n = generation_length\n",
    "    for i in tqdm(range(n)):\n",
    "      predictions = model(input_eval)\n",
    "      predictions = tf.squeeze(predictions, 0)\n",
    "      predicted_id = tf.random.categorical(predictions, num_samples=1)[-1,0].numpy()\n",
    "      input_eval = tf.expand_dims([predicted_id], 0)\n",
    "      text_generated.append(idx2char(predicted_id, vocab))\n",
    "    \n",
    "    text = (start_string + ''.join(text_generated))\n",
    "  \n",
    "  if choose=='n_songs':\n",
    "    n = 0\n",
    "    with tqdm(total=n_songs) as pbar:\n",
    "      while n < n_songs:\n",
    "        n0 = n\n",
    "        predictions = model(input_eval)\n",
    "        predictions = tf.squeeze(predictions, 0)\n",
    "        predicted_id = tf.random.categorical(predictions, num_samples=1)[-1,0].numpy()\n",
    "        input_eval = tf.expand_dims([predicted_id], 0)\n",
    "        text_generated.append(idx2char(predicted_id, vocab))\n",
    "        text = (start_string + ''.join(text_generated))\n",
    "        aux = extract_song_snippet(text)\n",
    "        n = len(aux)\n",
    "        if n > n0: \n",
    "          pbar.update(1)\n",
    "    \n",
    "  return text"
   ]
  },
  {
   "cell_type": "code",
   "execution_count": 53,
   "metadata": {},
   "outputs": [],
   "source": [
    "n = len(songs[1]) \n",
    "n_train = round(0.8*len(songs[1]))\n",
    "x_train = songs[1][0:n_train]\n",
    "y_train = songs[1][n_train:n]\n"
   ]
  },
  {
   "cell_type": "code",
   "execution_count": 61,
   "metadata": {},
   "outputs": [
    {
     "name": "stdout",
     "output_type": "stream",
     "text": [
      "X:2\n",
      "M:C|\n",
      "L:1/8\n",
      "K:G Major\n",
      "GF|DGGB d2GB|d2GF Gc (3AGF|DGGB d2GB|dBcA F2GF|!\n",
      "DGGB d2GF|DGGF G2Ge|fgaf gbag|fdcA G2:|!\n",
      "GA|B2BG c2cA|d2GF G2GA|B2BG c2cA|d2DE F2GA|!\n",
      "B2BG c2cA|d^cde f2 (3def|g2gf gbag|fdcA G2:|!\n"
     ]
    },
    {
     "name": "stderr",
     "output_type": "stream",
     "text": [
      "100%|██████████| 41/41 [00:00<00:00, 95.35it/s] "
     ]
    },
    {
     "name": "stdout",
     "output_type": "stream",
     "text": [
      "X:2\n",
      "M:C|\n",
      "L:1/8\n",
      "K:G Major\n",
      "GF|DGGB d2GB|d2GF Gc (3AGF|DGGB d2GB|dBcA F2GF|!\n",
      "DGGB d2GF|DGGF G2Ge|fgaf gbag|fdcA G2:|!\n",
      "GA|B2BG c2cA|d2GF G2GA|B2BG c2cA|d2DE F2GA|!\n",
      "B2BG A2|B dc d2e|d3 dB dc D2D|G2F G >g=d gfe \n"
     ]
    },
    {
     "name": "stderr",
     "output_type": "stream",
     "text": [
      "\n"
     ]
    }
   ],
   "source": [
    "print(songs[1])\n",
    "generated_text = generate_text(model, start_string=x_train, vocab=vocab, choose='length', generation_length=len(y_train))\n",
    "# generated_text = generate_text(model, start_string=\"X:1\\nT:\", choose='n_songs', n_songs=10)\n",
    "print(generated_text)"
   ]
  },
  {
   "cell_type": "code",
   "execution_count": 55,
   "metadata": {},
   "outputs": [],
   "source": [
    "# generated_songs = extract_song_snippet(generated_text)\n",
    "# print(generated_songs)\n",
    "# print(len(generated_songs))"
   ]
  },
  {
   "cell_type": "code",
   "execution_count": 56,
   "metadata": {},
   "outputs": [],
   "source": [
    "def save_song_abc(song, dir='./geradas/irish/', filename='gen'):\n",
    "    save_name = dir+filename+'.abc'\n",
    "    with open (save_name, 'w') as f:\n",
    "        f.write(song)\n",
    "        f.close()\n",
    "    return save_name\n",
    "\n",
    "def abc2midi(abc_song, dir='./geradas/irish/'):\n",
    "    s = converter.parse(dir+abc_song+'.abc')\n",
    "    s.write('midi', fp=dir+abc_song+'.mid')\n",
    "\n",
    "# for i in range(len(generated_songs)):\n",
    "#     save_song_abc(generated_songs[i], filename='gen'+str(i+1))\n",
    "#     try:\n",
    "#         abc2midi('gen'+str(i+1))\n",
    "#     except: \n",
    "#         pass\n",
    "\n"
   ]
  },
  {
   "cell_type": "code",
   "execution_count": 57,
   "metadata": {},
   "outputs": [],
   "source": [
    "save_song_abc(generated_text, filename='newgen')\n",
    "abc2midi('newgen')"
   ]
  },
  {
   "cell_type": "code",
   "execution_count": 58,
   "metadata": {},
   "outputs": [],
   "source": [
    "# caminhos\n",
    "# - aparentemente, o código gera as músicas como deveria, mas sem reprodutibilidade...\n",
    "# - inserir qualquer comando de fixar semente em \"get_batch()\" está dando problema\n",
    "# - no entando, é possível fixar semente para peso inicial e para gerar caracteres/músicas dado o modelo com os pesos carregados (testar melhor)\n",
    "# - talvez vale a pena criar alguns modelos deixando os pesos salvos, e gerar as músicas com base em uma seed determinada\n",
    "# - talvez estabilizando o código, dê para realizar a computação na CPU para garantir reprodutibilidade\n",
    "# próximos passos código\n",
    "# - limpar/manipular arquivos ABC para brincar com predição\n",
    "# - redefinir get_batch para limitar para cada arquivo .abc (objetivo: extrapolar cada música)\n",
    "# - adaptar código para executar com dados do abcnotation, além do irish, claro"
   ]
  }
 ],
 "metadata": {
  "kernelspec": {
   "display_name": "Python 3.9.12 ('tcc')",
   "language": "python",
   "name": "python3"
  },
  "language_info": {
   "codemirror_mode": {
    "name": "ipython",
    "version": 3
   },
   "file_extension": ".py",
   "mimetype": "text/x-python",
   "name": "python",
   "nbconvert_exporter": "python",
   "pygments_lexer": "ipython3",
   "version": "3.9.12"
  },
  "orig_nbformat": 4,
  "vscode": {
   "interpreter": {
    "hash": "c8423169460a4ab7c0196f3b7f025b4f11bf11307ee8777457d830da4956ded6"
   }
  }
 },
 "nbformat": 4,
 "nbformat_minor": 2
}
