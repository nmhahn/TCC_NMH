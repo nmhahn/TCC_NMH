{
 "cells": [
  {
   "cell_type": "code",
   "execution_count": 10,
   "metadata": {},
   "outputs": [
    {
     "data": {
      "text/plain": [
       "'MIDIs/gen6.mid'"
      ]
     },
     "execution_count": 10,
     "metadata": {},
     "output_type": "execute_result"
    }
   ],
   "source": [
    "from music21 import converter\n",
    "dir = 'irish'\n",
    "musica = 'gen5'\n",
    "s = converter.parse(dir+'/'+musica+'.abc')\n",
    "#s.show('midi')\n",
    "s.write('midi',fp='MIDIs/'+musica+'.mid')"
   ]
  },
  {
   "cell_type": "code",
   "execution_count": 20,
   "metadata": {},
   "outputs": [],
   "source": [
    "import os\n",
    "from IPython import display as ipythondisplay\n",
    "\n",
    "def save_song_to_abc(song, filename='MIDIs/tmp'):\n",
    "    save_name = '{}.abc'.format(filename)\n",
    "    with open(save_name, 'w') as f:\n",
    "        f.write(song)\n",
    "    return filename\n",
    "\n",
    "def abc2wav(abc_file):\n",
    "    suf = abc_file.rstrip('.abc')\n",
    "    cmd = 'abc2midi {} -o {}'.format(abc_file, suf + '.mid')\n",
    "    os.system(cmd)\n",
    "    return os.system(cmd)\n",
    "\n",
    "def play_wav(wav_file):\n",
    "    return ipythondisplay.Audio(wav_file)\n",
    "\n",
    "def play_song(song):\n",
    "    #basename = save_song_to_abc(song)\n",
    "    basename = song\n",
    "    ret = abc2wav(basename + '.abc')\n",
    "    if ret == 0: #did not suceed\n",
    "        return play_wav(basename + '.wav')\n",
    "    return None\n"
   ]
  },
  {
   "cell_type": "code",
   "execution_count": 21,
   "metadata": {},
   "outputs": [],
   "source": [
    "dir = 'irish'\n",
    "musica = 'gen1'\n",
    "\n",
    "play_song(musica)\n",
    "\n"
   ]
  }
 ],
 "metadata": {
  "interpreter": {
   "hash": "fbb9ed1a5b643bde94290ea73c28507ad24bac0af27794593627ca927a0f8448"
  },
  "kernelspec": {
   "display_name": "Python 3.9.7 ('tf-gpu')",
   "language": "python",
   "name": "python3"
  },
  "language_info": {
   "codemirror_mode": {
    "name": "ipython",
    "version": 3
   },
   "file_extension": ".py",
   "mimetype": "text/x-python",
   "name": "python",
   "nbconvert_exporter": "python",
   "pygments_lexer": "ipython3",
   "version": "3.9.7"
  },
  "orig_nbformat": 4
 },
 "nbformat": 4,
 "nbformat_minor": 2
}
