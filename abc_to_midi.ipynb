{
 "cells": [
  {
   "cell_type": "code",
   "execution_count": 8,
   "metadata": {},
   "outputs": [],
   "source": [
    "import os\n",
    "import json\n",
    "from music21 import converter\n",
    "\n",
    "cwd = os.getcwd()\n",
    "idx = ['05','07','11','25'] # irish\n",
    "# idx = ['08','06','20','28'] # abcnotation\n",
    "data_source = 'irish' # ['irish','abcnotation']\n",
    "act = 'sigmoid' # ['tanh','sigmoid']\n",
    "\n",
    "for i in idx:\n",
    "    filepath = os.path.join(cwd, 'models', act, \n",
    "                        'model_'+data_source+'_'+i,\n",
    "                        'results_'+data_source+'_'+i+'.json'\n",
    "                        )\n",
    "    f = open(filepath, 'r')\n",
    "    data = json.load(f)\n",
    "    \n",
    "    for j in range(10):\n",
    "        dir = 'musicas_geradas/'+data_source\n",
    "        musica = data_source+'_'+i+'_'+'_'+act+'_'+'gen'+str(j+1)\n",
    "        with open(dir+'/'+musica+'.abc', 'w') as f:\n",
    "            f.write(data['generated_songs_abc'][j])\n",
    "        f.close()\n",
    "        try:\n",
    "            s = converter.parse(dir+'/'+musica+'.abc')\n",
    "            s.write('midi',fp=dir+'/'+musica+'.mid')\n",
    "        except:\n",
    "            pass\n",
    "\n"
   ]
  }
 ],
 "metadata": {
  "kernelspec": {
   "display_name": "tcc",
   "language": "python",
   "name": "python3"
  },
  "language_info": {
   "codemirror_mode": {
    "name": "ipython",
    "version": 3
   },
   "file_extension": ".py",
   "mimetype": "text/x-python",
   "name": "python",
   "nbconvert_exporter": "python",
   "pygments_lexer": "ipython3",
   "version": "3.9.12"
  },
  "orig_nbformat": 4
 },
 "nbformat": 4,
 "nbformat_minor": 2
}
